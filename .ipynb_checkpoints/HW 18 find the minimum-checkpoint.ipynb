{
 "cells": [
  {
   "cell_type": "markdown",
   "metadata": {},
   "source": [
    "## 18.6 Homework\n",
    "\n",
    "Write a program to find the minium of \n",
    "    $$ f(x,y) = x^2/2 + y^2/3 - xy/4 $$\n",
    "    \n",
    "- 1, from your own code (except Monte Carlo)\n",
    "- 2, from scipy"
   ]
  },
  {
   "cell_type": "markdown",
   "metadata": {},
   "source": [
    "## Grid Search Method"
   ]
  },
  {
   "cell_type": "code",
   "execution_count": 1,
   "metadata": {
    "collapsed": false
   },
   "outputs": [
    {
     "name": "stdout",
     "output_type": "stream",
     "text": [
      "5.84501752336e-05\n"
     ]
    }
   ],
   "source": [
    "import numpy as np\n",
    "import matplotlib.pyplot as plt\n",
    "\n",
    "def f(x):\n",
    "    return (x[0]**2)/2 + (x[1]**2)/3 -x[0]*x[1]/4  #function to investigate\n",
    "\n",
    "\n",
    "\n",
    "def grid_search(N):\n",
    "    xn = np.empty([N,N])\n",
    "    yn = np.empty([N,N])\n",
    "    x = np.empty([N])\n",
    "    y = np.empty([N])\n",
    "    x_min, x_max = -10, 10\n",
    "    y_min, y_max = -10, 10                   \n",
    "    x = np.linspace(x_min,x_max,N)\n",
    "    y = np.linspace(y_min,y_max,N)\n",
    "    xn,yn = np.meshgrid(x,y)\n",
    "    F = f([xn,yn])\n",
    "    minf = np.amin(F) \n",
    "    print( minf)\n",
    "\n",
    "grid_search(10**3)"
   ]
  },
  {
   "cell_type": "markdown",
   "metadata": {},
   "source": [
    "## Scipy Minimize using Conjugated Gradient"
   ]
  },
  {
   "cell_type": "code",
   "execution_count": 5,
   "metadata": {
    "collapsed": false
   },
   "outputs": [
    {
     "name": "stdout",
     "output_type": "stream",
     "text": [
      "Warning: Desired error not necessarily achieved due to precision loss.\n",
      "         Current function value: 0.000000\n",
      "         Iterations: 8\n",
      "         Function evaluations: 56\n",
      "         Gradient evaluations: 11\n"
     ]
    }
   ],
   "source": [
    "from scipy.optimize import minimize\n",
    "\n",
    "def f(x):\n",
    "    return x[0]**2/2 + x[1]**2/3 - x[0]*x[1]/4\n",
    "\n",
    "def init(x_min,x_max,y_min,y_max):\n",
    "    x0 = x_min+np.random.random()*(x_max-x_min)\n",
    "    y0 = y_min+np.random.random()*(y_max-y_min)\n",
    "    return [x0, y0]\n",
    "\n",
    "x_min, x_max = -10, 10\n",
    "y_min, y_max = -10, 10\n",
    "\n",
    "x0,y0 = init(x_min, x_max, y_min, y_max)\n",
    "min= minimize(f, [x0,y0], method='CG', tol=1e-4, options={'disp': True})"
   ]
  },
  {
   "cell_type": "code",
   "execution_count": null,
   "metadata": {
    "collapsed": true
   },
   "outputs": [],
   "source": []
  }
 ],
 "metadata": {
  "kernelspec": {
   "display_name": "Python 3",
   "language": "python",
   "name": "python3"
  },
  "language_info": {
   "codemirror_mode": {
    "name": "ipython",
    "version": 3
   },
   "file_extension": ".py",
   "mimetype": "text/x-python",
   "name": "python",
   "nbconvert_exporter": "python",
   "pygments_lexer": "ipython3",
   "version": "3.5.2"
  }
 },
 "nbformat": 4,
 "nbformat_minor": 2
}
