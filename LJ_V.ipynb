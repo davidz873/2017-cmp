{
 "cells": [
  {
   "cell_type": "code",
   "execution_count": 4,
   "metadata": {
    "collapsed": true,
    "deletable": true,
    "editable": true
   },
   "outputs": [],
   "source": [
    "import numpy as np\n",
    "from scipy.spatial.distance import cdist\n",
    "from scipy.optimize import minimize\n",
    "\n",
    "\n",
    "def dist(N_atoms, L = 5):\n",
    "    pos = L*np.random.random_sample(N_atoms*3).reshape(N_atoms,3)\n",
    "    distance = cdist(pos,pos,'euclidean')\n",
    "    iu1 = np.triu_indices(N_atoms)\n",
    "    distance = distance[iu1]\n",
    "    index = np.argwhere(distance==0)\n",
    "    distance = np.delete(distance,index)\n",
    "    return distance\n",
    "    \n",
    "def LJ(r):\n",
    "    r6 = np.power(r,6)\n",
    "    r12 = np.multiply(r6,r6)\n",
    "    return 4*(1/r12 - 1/r6)\n",
    "    \n",
    "def Total_Energy(positions):\n",
    "\n",
    "    E = LJ(positions)\n",
    "    Energy = np.sum(E)\n",
    "    return Energy\n",
    "\n",
    "\n",
    "N_attempts = 50\n",
    "f_values = []\n",
    "x_values = []\n",
    "\n",
    "\n",
    "\n",
    "def ground_state_potential(N_atom):\n",
    "    for i in range(N_attempts):\n",
    "        pos = dist(N_atom)\n",
    "        res = minimize(Total_Energy, pos, method='CG', tol=1e-4)\n",
    "        f_values.append(res.fun)\n",
    "        x_values.append(res.x)\n",
    "        #if i%10==0:\n",
    "         #   print('step: ', i, '  values:', res.fun)\n",
    "\n",
    "    print('The ground state potential is:  ', min(f_values))"
   ]
  },
  {
   "cell_type": "code",
   "execution_count": 3,
   "metadata": {
    "collapsed": false,
    "deletable": true,
    "editable": true
   },
   "outputs": [
    {
     "name": "stdout",
     "output_type": "stream",
     "text": [
      "The ground state potential is:   -9.99999999999999\n",
      "The ground state potential is:   -9.999999999999993\n",
      "The ground state potential is:   -9.999999999999993\n",
      "The ground state potential is:   -9.999999999999993\n",
      "1 loop, best of 3: 1.11 s per loop\n",
      "The ground state potential is:   -64.88007652365377\n",
      "The ground state potential is:   -66.01929227444238\n",
      "The ground state potential is:   -75.99947553133367\n",
      "The ground state potential is:   -75.99947553133367\n",
      "1 loop, best of 3: 33.1 s per loop\n",
      "The ground state potential is:   -126.12329328868208\n",
      "The ground state potential is:   -158.48196788054315\n",
      "The ground state potential is:   -158.48196788054315\n",
      "The ground state potential is:   -158.48196788054315\n",
      "1 loop, best of 3: 2min 58s per loop\n"
     ]
    }
   ],
   "source": [
    "%timeit ground_state_potential(5)\n",
    "%timeit ground_state_potential(13)\n",
    "%timeit ground_state_potential(20)\n"
   ]
  },
  {
   "cell_type": "code",
   "execution_count": 9,
   "metadata": {
    "collapsed": false,
    "deletable": true,
    "editable": true
   },
   "outputs": [
    {
     "name": "stdout",
     "output_type": "stream",
     "text": [
      "The ground state potential is:   -75.00447495577393\n"
     ]
    },
    {
     "data": {
      "image/png": "[encoded data removed]",
      "text/plain": [
       "<matplotlib.figure.Figure at 0x1a31f8a9828>"
      ]
     },
     "metadata": {},
     "output_type": "display_data"
    }
   ],
   "source": [
    "import matplotlib.pyplot as plt\n",
    "\n",
    "ground_state_potential(13)\n",
    "plt.hist(f_values,50)\n",
    "plt.show()"
   ]
  },
  {
   "cell_type": "code",
   "execution_count": null,
   "metadata": {
    "collapsed": true
   },
   "outputs": [],
   "source": []
  }
 ],
 "metadata": {
  "kernelspec": {
   "display_name": "Python 3",
   "language": "python",
   "name": "python3"
  },
  "language_info": {
   "codemirror_mode": {
    "name": "ipython",
    "version": 3
   },
   "file_extension": ".py",
   "mimetype": "text/x-python",
   "name": "python",
   "nbconvert_exporter": "python",
   "pygments_lexer": "ipython3",
   "version": "3.5.2"
  }
 },
 "nbformat": 4,
 "nbformat_minor": 2
}
