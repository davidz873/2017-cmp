{
 "cells": [
  {
   "cell_type": "code",
   "execution_count": 100,
   "metadata": {
    "collapsed": false,
    "deletable": true,
    "editable": true
   },
   "outputs": [],
   "source": [
    "import numpy as np\n",
    "from scipy.spatial.distance import cdist\n",
    "from scipy.optimize import minimize\n",
    "import requests\n",
    "\n",
    "def get_pos_from_url(address='http://doye.chem.ox.ac.uk/jon/structures/LJ/points/', N=7):\n",
    "    url_address = address + str(N)\n",
    "    data_str = requests.get(url_address).text\n",
    "    return parse_url_text(data_str)    \n",
    "    \n",
    "def parse_url_text(data_str):\n",
    "    x_array = []\n",
    "    text = data_str.split('\\n')\n",
    "    for line in text:\n",
    "        [x_array.append(float(i)) for i in line.split()]\n",
    "    return np.array(x_array)\n",
    "\n",
    "\n",
    "\n",
    "\n",
    "def dist(N_atoms):\n",
    "    pos = get_pos_from_url(N = N_atoms)\n",
    "    pos = np.reshape(pos,[N_atoms,3])\n",
    "    #pos = 5*np.random.random_sample(N_atoms*3)\n",
    "    #pos = np.reshape(pos,[N_atoms,3])\n",
    "    distance = cdist(pos,pos,'euclidean')\n",
    "    iu1 = np.triu_indices(N_atoms)\n",
    "    distance = distance[iu1]\n",
    "    index = np.argwhere(distance==0)\n",
    "    distance = np.delete(distance,index)\n",
    "    return distance\n",
    "\n",
    "\n",
    "\n",
    "def distance(N_atoms,L=0.5):\n",
    "    return L*np.random.random_sample(int(((N_atoms*N_atoms)-N_atoms)/2))\n",
    "    \n",
    "    \n",
    "    \n",
    "def LJ(r):\n",
    "    r6 = np.power(r,6)\n",
    "    r12 = np.multiply(r6,r6)\n",
    "    return 4*(1/r12 - 1/r6)\n",
    "    \n",
    "def Total_Energy(positions):\n",
    "\n",
    "    E = LJ(positions)\n",
    "    Energy = np.sum(E)\n",
    "    return Energy\n",
    "\n",
    "\n",
    "\n",
    "\n",
    "\n",
    "\n",
    "\n",
    "def ground_state_potential(N_atoms,N_attempts):\n",
    "    f_values = []\n",
    "    x_values = []\n",
    "    for i in range(N_attempts):\n",
    "        pos = distance(N_atoms)\n",
    "        res = minimize(Total_Energy, pos, method='BFGS', tol=1e-4)\n",
    "        f_values.append(res.fun)\n",
    "        x_values.append(res.x)\n",
    "        #if i%10==0:\n",
    "         #   print('step: ', i, '  values:', res.fun)\n",
    "\n",
    "    print('The ground state potential is:  ', min(f_values))\n",
    "    return f_values"
   ]
  },
  {
   "cell_type": "code",
   "execution_count": 3,
   "metadata": {
    "collapsed": false,
    "deletable": true,
    "editable": true
   },
   "outputs": [
    {
     "name": "stdout",
     "output_type": "stream",
     "text": [
      "The ground state potential is:   -9.99999999999999\n",
      "The ground state potential is:   -9.999999999999993\n",
      "The ground state potential is:   -9.999999999999993\n",
      "The ground state potential is:   -9.999999999999993\n",
      "1 loop, best of 3: 1.11 s per loop\n",
      "The ground state potential is:   -64.88007652365377\n",
      "The ground state potential is:   -66.01929227444238\n",
      "The ground state potential is:   -75.99947553133367\n",
      "The ground state potential is:   -75.99947553133367\n",
      "1 loop, best of 3: 33.1 s per loop\n",
      "The ground state potential is:   -126.12329328868208\n",
      "The ground state potential is:   -158.48196788054315\n",
      "The ground state potential is:   -158.48196788054315\n",
      "The ground state potential is:   -158.48196788054315\n",
      "1 loop, best of 3: 2min 58s per loop\n"
     ]
    }
   ],
   "source": [
    "%timeit ground_state_potential(5)\n",
    "%timeit ground_state_potential(13)\n",
    "%timeit ground_state_potential(20)\n"
   ]
  },
  {
   "cell_type": "code",
   "execution_count": 106,
   "metadata": {
    "collapsed": false,
    "deletable": true,
    "editable": true
   },
   "outputs": [
    {
     "name": "stderr",
     "output_type": "stream",
     "text": [
      "C:\\Users\\david\\AppData\\Local\\Enthought\\Canopy\\edm\\envs\\User\\lib\\site-packages\\ipykernel\\__main__.py:42: RuntimeWarning: overflow encountered in multiply\n"
     ]
    },
    {
     "name": "stdout",
     "output_type": "stream",
     "text": [
      "The ground state potential is:   -13.00000006213379\n"
     ]
    },
    {
     "data": {
      "image/png": "[encoded data removed]",
      "text/plain": [
       "<matplotlib.figure.Figure at 0x277585cb2b0>"
      ]
     },
     "metadata": {},
     "output_type": "display_data"
    }
   ],
   "source": [
    "import matplotlib.pyplot as plt\n",
    "N_atoms = 7\n",
    "N_attempts = 50\n",
    "V = ground_state_potential(N_atoms,N_attempts)\n",
    "plt.hist(V,N_attempts)\n",
    "plt.show()"
   ]
  },
  {
   "cell_type": "code",
   "execution_count": 91,
   "metadata": {
    "collapsed": false,
    "deletable": true,
    "editable": true
   },
   "outputs": [
    {
     "data": {
      "text/plain": [
       "-16.505384167507657"
      ]
     },
     "execution_count": 91,
     "metadata": {},
     "output_type": "execute_result"
    }
   ],
   "source": [
    "positions = dist(7)\n",
    "Total_Energy(positions)"
   ]
  },
  {
   "cell_type": "code",
   "execution_count": 102,
   "metadata": {
    "collapsed": false
   },
   "outputs": [
    {
     "name": "stdout",
     "output_type": "stream",
     "text": [
      "[-7.7725251653713325, -9.000000000143105, -14.00131768125663, -5.000001369979357, -5.000071992643763, -6.320516651979443, -5.000019434805468, -5.314727582861316, -5.352188922122142, -2.860618526550194, -5.562211177184684, -13.000003708496804, -1.3758591837430147, -7.000013916078762, -11.00000017755808, -5.000044011814825, 277.6098494123368, -8.00000520308627, -8.365014611541719, -8.42853015916988, -6.489960298991198, -2.0001157822810094, -8.000000116983632, -5.000000190858426, -10.000000002905335, -16.00000000248644, -4.62139284484656, -5.343929189637641, -9.000000367275833, -8.000000225871466, -5.153942735113659, -8.266175843660097, -9.000000006476721, -4.0068364394766425, -8.435837935551216, -9.00071229318286, -8.000014028363855, -9.619947129655841, -4.000017015647284, -11.000000071779814, -10.000000008523969, -8.000000000586466, -7.2888423569425616, -8.317094054616835, -10.000000023114943, -4.404967142005026, -8.999999999968951, -5.605391934362535, -10.000000009052838, -4.33271321340027]\n"
     ]
    }
   ],
   "source": [
    "print(V)"
   ]
  },
  {
   "cell_type": "code",
   "execution_count": null,
   "metadata": {
    "collapsed": true
   },
   "outputs": [],
   "source": []
  }
 ],
 "metadata": {
  "kernelspec": {
   "display_name": "Python 3",
   "language": "python",
   "name": "python3"
  },
  "language_info": {
   "codemirror_mode": {
    "name": "ipython",
    "version": 3
   },
   "file_extension": ".py",
   "mimetype": "text/x-python",
   "name": "python",
   "nbconvert_exporter": "python",
   "pygments_lexer": "ipython3",
   "version": "3.5.2"
  }
 },
 "nbformat": 4,
 "nbformat_minor": 2
}
