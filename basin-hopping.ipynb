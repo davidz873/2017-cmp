{
 "cells": [
  {
   "cell_type": "markdown",
   "metadata": {},
   "source": [
    "##  <center>Basin Hopping optimization of LJ Clusters\n",
    "\n",
    "![Image of Basin Hopping Transformation](https://www.hindawi.com/journals/aai/2012/674832.fig.001b.jpg)"
   ]
  },
  {
   "cell_type": "markdown",
   "metadata": {},
   "source": [
    "## <Center>INTRODUCTION"
   ]
  },
  {
   "cell_type": "markdown",
   "metadata": {},
   "source": [
    "<p>The Lennard Jones potential is a simple mathematical model that approximates the atomic interactions between neutral atoms.<sup>[5]<sup><p>\n",
    "<p>This was first proposed in 1924 by John Lennard-Jones, a British mathematician and theoretical physicist.  Recently, Lennard-Jones clusters have been of great interest to computational scientists, specificcally their structural, thermodynamic and dynamic properties<sup>[1]<sup><p>\n",
    "\n",
    "The Lennard-Jones equation in its most common form is given by\n",
    "$$ V = 4\\epsilon \\big[ \\big(\\frac{\\delta}{r}\\big)^{12} - \\big(\\frac{\\delta}{r}\\big)^{6} \\big]$$\n",
    "\n",
    "<p>Where $\\epsilon$ is the depth of the potential well and $\\delta$ is the distance at which the potential crosses zero for the interatomic interation while $r$ is the distance between two atoms.  Here both $\\epsilon$ and $\\delta$ are set to $1$ for simplicity.<p>\n",
    "<p>Recently, Lennard-Jones clusters have been of great interest to computational scientists, specifically their structural, thermodynamic and dynamic properties<sup>[1]<sup><p>\n",
    "<p>To extract these properties of Lennard-Jones clusters, many global optimization technqiues have been implimented.<p>\n"
   ]
  },
  {
   "cell_type": "markdown",
   "metadata": {},
   "source": [
    "## <center>GLOBAL OPTIMIZATION OF LENNARD-JONES CLUSTERS\n",
    "\n",
    "<p>Various optimization techniques have been implimented with great success in finding the potential energy minimums of Lennard-Jones clusters.  A commonly used technique is Basin-Hopping due to its efficiency.<sup>[3]<sup><p>\n",
    "\n",
    "<p>Basin-Hopping minimization implements a transformation to the space of interest by changing the geometry to a series of \"inter penetrating staircases\" without changing the values of the minima themselves, effectively creating a basin at the global minima.<sup>[3]<sup><p>\n",
    "\n",
    "<p>When applying Basin-Hopping to Lennard-Jones clusters, the geometry of the potential energy space is transformed into a series of \"stairs\" as shown below.  This eliminates the barriers that the potential enery landscape imposes allowing for an easier compuation of minima.<p>\n",
    "\n",
    "![Image of Basin Hopping Transformation](https://www.researchgate.net/profile/David_Wales2/publication/5303017/figure/fig1/AS:280493384847360@1443886242020/FIG-1-In-the-basin-hopping-approach-the-original-potential-energy-surface-solid-is.png)\n",
    "\n",
    "<p>Basin-Hopping has been implimented in scipy as a stochastic algorithm with an acceptance test based on a Monte Carlo algorithm.  Since the algorithm is stochastic for consistency, it must be iterative in nature as there is no way to determine if the computed value for the minimum is the true global minimum.<sup>[2]<sup><p>\n",
    "\n",
    "There are three parameters to adjust when utilizing the Basin-Hopping algorithm to compute global minima.\n",
    "\n",
    "<p>The first being the temperature which must be in porportion to the difference in extrema values.\n",
    "The second being the step size, which controls exactly how far the random number can generate away from the previous location at any given iteration.\n",
    "While the third is the number of iterations.<sup>[3]<sup><p>\n",
    "\n",
    "<p> The first two parameters, temperature and step size, must be set in relation to the potential energy landscape.  For the case of Lennard-Jones clusters, a forest diagram is used to infer the necessary parameters that will most efficiently lead to a global minimum computation. <p>"
   ]
  },
  {
   "cell_type": "markdown",
   "metadata": {},
   "source": [
    "## <center>Experiment\n",
    "\n",
    "Below is the python code used to impliment basin-hopping to Lennard-Jones potentials, the code is highly vectorized and a little difficult to understand. The highly vectorized portions are carefully explained in their function.  \n",
    "\n",
    "I will attempt to relate the parameters that may lead to an efficient computation of global minimum to the geometries of the potential energy space of the cluster as well as the physical geometry of the cluster.\n",
    "\n",
    "<p>The physical geometry figures and true global minimums were generated using the Cambridge resource<sup>[4]<sup><p>"
   ]
  },
  {
   "cell_type": "code",
   "execution_count": 138,
   "metadata": {
    "collapsed": false,
    "deletable": true,
    "editable": true
   },
   "outputs": [],
   "source": [
    "def init_pos(N_atoms,L=5):\n",
    "    '''Generates the cartesian coordinates of N_atoms for Lennard Jones clusters'''\n",
    "    \n",
    "    import numpy as np\n",
    "    return L*np.random.random_sample(N_atoms*3)\n",
    "    \n",
    "    \n",
    "def LjN(N_atom,iterations,Temp,Step):\n",
    "    '''Utilizes total energy and position functions in conjunction with the basin\n",
    "    hopping algorithm in order to find the minimums of the potential energy landscape of a\n",
    "    Lennard Jones cluster of N_atoms in a given number of iterations.\n",
    "    The Temp and Step parameters of this function will need to be changed with regard to the size\n",
    "    and geometry of the cluster'''\n",
    "    \n",
    "    import numpy as np\n",
    "    from scipy.optimize import basinhopping\n",
    "\n",
    "\n",
    "    def Total_Energy(pos):\n",
    "        '''A vectorized function that computes the cartesian distance between each atom in the\n",
    "        Lennard Jones cluster in order to find the total potential of of the cluster in question'''\n",
    "        \n",
    "        \n",
    "        from scipy.spatial.distance import cdist\n",
    "        pos = np.reshape(pos,[N_atom,3])  # reshapes to a N_atom x 3 array to describe the cartesian coordiantes for each row\n",
    "        distance = cdist(pos,pos,'euclidean')  # computes the euclidean distance between all atoms in the cluster\n",
    "        iu1 = np.triu_indices(N_atom) # the previous step returns a distance matrix which we only need the upper triangular\n",
    "        distance = distance[iu1]  # this removes all other elements except that upper triangular matrix\n",
    "        index = np.argwhere(distance==0) # this removes the distance of an atom to itself\n",
    "        distance = np.delete(distance,index)\n",
    "        r6 = np.power(distance,6)  # LJ potential computation\n",
    "        r12 = np.multiply(r6,r6)\n",
    "        E= 4*(1/r12 - 1/r6)  # returns an array of potentials for each distance pair\n",
    "        Energy = np.sum(E)  # sums the previous array to compute the total potential\n",
    "        return Energy\n",
    "    \n",
    "    pos = init_pos(N_atom)\n",
    "    res = basinhopping(Total_Energy, pos, niter=iterations, T=Temp, stepsize=Step, disp=False)\n",
    "    return res.fun\n",
    "    "
   ]
  },
  {
   "cell_type": "code",
   "execution_count": 109,
   "metadata": {
    "collapsed": false
   },
   "outputs": [],
   "source": [
    "import numpy as np\n",
    "from scipy.spatial.distance import cdist\n",
    "import requests\n",
    "\n",
    "\n",
    "# Pulling data from cambridge database\n",
    "def get_pos_from_url(address='http://doye.chem.ox.ac.uk/jon/structures/LJ/points/', N=7):\n",
    "    url_address = address + str(N)\n",
    "    data_str = requests.get(url_address).text\n",
    "    return parse_url_text(data_str)    \n",
    "    \n",
    "def parse_url_text(data_str):\n",
    "    x_array = []\n",
    "    text = data_str.split('\\n')\n",
    "    for line in text:\n",
    "        [x_array.append(float(i)) for i in line.split()]\n",
    "    return np.array(x_array)\n",
    "\n",
    "def positions(N_atoms):\n",
    "    pos = get_pos_from_url(N = N_atoms)\n",
    "    pos = np.reshape(pos,[N_atoms,3])\n",
    "    return pos[:,0],pos[:,1],pos[:,2]\n",
    "\n",
    "# Computing minimum potentials from cambridge database\n",
    "\n",
    "def dist(N_atoms):\n",
    "    pos = get_pos_from_url(N = N_atoms)\n",
    "    pos = np.reshape(pos,[N_atoms,3])\n",
    "    distance = cdist(pos,pos,'euclidean')\n",
    "    iu1 = np.triu_indices(N_atoms)\n",
    "    distance = distance[iu1]\n",
    "    index = np.argwhere(distance==0)\n",
    "    distance = np.delete(distance,index)\n",
    "    return distance\n",
    "    \n",
    "def LJ(r):\n",
    "    r6 = np.power(r,6)\n",
    "    r12 = np.multiply(r6,r6)\n",
    "    return 4*(1/r12 - 1/r6)\n",
    "    \n",
    "def Total_energy(positions):\n",
    "\n",
    "    E = LJ(positions)\n",
    "    Energy = np.sum(E)\n",
    "    return Energy"
   ]
  },
  {
   "cell_type": "markdown",
   "metadata": {
    "collapsed": true,
    "deletable": true,
    "editable": true
   },
   "source": [
    "## <center>13 Atoms \n",
    "\n"
   ]
  },
  {
   "cell_type": "code",
   "execution_count": 44,
   "metadata": {
    "collapsed": false
   },
   "outputs": [
    {
     "name": "stdout",
     "output_type": "stream",
     "text": [
      "From cambridge, the minimum energy of a 13 atom cluster is\n",
      " -44.3268014187 \n",
      "\n",
      "The geometry of a 13 atom cluster is shown here\n"
     ]
    },
    {
     "data": {
      "image/png": "[encoded data removed]",
      "text/plain": [
       "<matplotlib.figure.Figure at 0x17d60a8dda0>"
      ]
     },
     "metadata": {},
     "output_type": "display_data"
    }
   ],
   "source": [
    "import matplotlib.pyplot as plt\n",
    "from mpl_toolkits.mplot3d import Axes3D\n",
    "pos = dist(13)\n",
    "V = Total_energy(pos)\n",
    "print('From cambridge, the minimum energy of a 13 atom cluster is\\n',V,'\\n\\nThe geometry of a 13 atom cluster is shown here')\n",
    "\n",
    "# for plot\n",
    "X,Y,Z = positions(13)\n",
    "fig = plt.figure()\n",
    "ax = fig.gca(projection='3d')\n",
    "ax.plot_trisurf(X, Y, Z)\n",
    "ax.view_init(elev=20, azim=315)\n",
    "plt.show()\n"
   ]
  },
  {
   "cell_type": "markdown",
   "metadata": {},
   "source": [
    "The geometry of the 13 atom cluster is isocahedral.<sup>[1]<sup>"
   ]
  },
  {
   "cell_type": "markdown",
   "metadata": {},
   "source": [
    "\n",
    "## <center>Forest diagram of 13 atoms<sup>[1]<sup>\n",
    "\n",
    "\n",
    "![Image of 13Forrest](http://doye.chem.ox.ac.uk/research/forest/treeLJ13.gif)"
   ]
  },
  {
   "cell_type": "markdown",
   "metadata": {},
   "source": [
    "The distance between the 3 lowest minima and the global minima is about 3, therefore I predict that success will be found in setting the Temperature parameter to 3.  I use 10 iterations here to see if the minimum is successfully predicted quickly."
   ]
  },
  {
   "cell_type": "code",
   "execution_count": 63,
   "metadata": {
    "collapsed": false
   },
   "outputs": [
    {
     "name": "stdout",
     "output_type": "stream",
     "text": [
      "warning: basinhopping: local minimization failure\n",
      "basinhopping step 0: f -40.087\n",
      "warning: basinhopping: local minimization failure\n",
      "basinhopping step 1: f -40.087 trial_f -30.8386 accepted 0  lowest_f -40.087\n",
      "basinhopping step 2: f -40.087 trial_f -37.234 accepted 0  lowest_f -40.087\n",
      "warning: basinhopping: local minimization failure\n",
      "basinhopping step 3: f -37.498 trial_f -37.498 accepted 1  lowest_f -40.087\n",
      "warning: basinhopping: local minimization failure\n",
      "basinhopping step 4: f -38.1039 trial_f -38.1039 accepted 1  lowest_f -40.087\n",
      "warning: basinhopping: local minimization failure\n",
      "basinhopping step 5: f -39.5371 trial_f -39.5371 accepted 1  lowest_f -40.087\n",
      "warning: basinhopping: local minimization failure\n",
      "basinhopping step 6: f -39.7171 trial_f -39.7171 accepted 1  lowest_f -40.087\n",
      "warning: basinhopping: local minimization failure\n",
      "basinhopping step 7: f -40.6046 trial_f -40.6046 accepted 1  lowest_f -40.6046\n",
      "found new global minimum on step 7 with function value -40.6046\n",
      "warning: basinhopping: local minimization failure\n",
      "basinhopping step 8: f -40.6046 trial_f -38.6542 accepted 0  lowest_f -40.6046\n",
      "basinhopping step 9: f -40.6046 trial_f -36.2178 accepted 0  lowest_f -40.6046\n",
      "warning: basinhopping: local minimization failure\n",
      "basinhopping step 10: f -40.6155 trial_f -40.6155 accepted 1  lowest_f -40.6155\n",
      "found new global minimum on step 10 with function value -40.6155\n"
     ]
    }
   ],
   "source": [
    "LjN(13,10,3,3) #Small T Small Step  FAILURE"
   ]
  },
  {
   "cell_type": "code",
   "execution_count": 64,
   "metadata": {
    "collapsed": false
   },
   "outputs": [
    {
     "name": "stdout",
     "output_type": "stream",
     "text": [
      "warning: basinhopping: local minimization failure\n",
      "basinhopping step 0: f -39.1431\n",
      "basinhopping step 1: f -39.1431 trial_f -38.493 accepted 0  lowest_f -39.1431\n",
      "warning: basinhopping: local minimization failure\n",
      "basinhopping step 2: f -41.472 trial_f -41.472 accepted 1  lowest_f -41.472\n",
      "found new global minimum on step 2 with function value -41.472\n",
      "warning: basinhopping: local minimization failure\n",
      "basinhopping step 3: f -40.7285 trial_f -40.7285 accepted 1  lowest_f -41.472\n",
      "basinhopping step 4: f -40.7285 trial_f -38.7697 accepted 0  lowest_f -41.472\n",
      "warning: basinhopping: local minimization failure\n",
      "basinhopping step 5: f -37.6294 trial_f -37.6294 accepted 1  lowest_f -41.472\n",
      "basinhopping step 6: f -39.0454 trial_f -39.0454 accepted 1  lowest_f -41.472\n",
      "basinhopping step 7: f -39.7966 trial_f -39.7966 accepted 1  lowest_f -41.472\n",
      "warning: basinhopping: local minimization failure\n",
      "basinhopping step 8: f -39.7522 trial_f -39.7522 accepted 1  lowest_f -41.472\n",
      "warning: basinhopping: local minimization failure\n",
      "basinhopping step 9: f -39.7522 trial_f -38.894 accepted 0  lowest_f -41.472\n",
      "warning: basinhopping: local minimization failure\n",
      "basinhopping step 10: f -38.5626 trial_f -38.5626 accepted 1  lowest_f -41.472\n"
     ]
    }
   ],
   "source": [
    "LjN(13,10,10,3)  #Large T Small Step   FAILURE"
   ]
  },
  {
   "cell_type": "code",
   "execution_count": 62,
   "metadata": {
    "collapsed": false
   },
   "outputs": [
    {
     "name": "stdout",
     "output_type": "stream",
     "text": [
      "warning: basinhopping: local minimization failure\n",
      "basinhopping step 0: f -40.6702\n",
      "basinhopping step 1: f -39.5451 trial_f -39.5451 accepted 1  lowest_f -40.6702\n",
      "warning: basinhopping: local minimization failure\n",
      "basinhopping step 2: f -39.5451 trial_f -32.2116 accepted 0  lowest_f -40.6702\n",
      "basinhopping step 3: f -40.4333 trial_f -40.4333 accepted 1  lowest_f -40.6702\n",
      "basinhopping step 4: f -41.3944 trial_f -41.3944 accepted 1  lowest_f -41.3944\n",
      "found new global minimum on step 4 with function value -41.3944\n",
      "warning: basinhopping: local minimization failure\n",
      "basinhopping step 5: f -41.3944 trial_f -33.6949 accepted 0  lowest_f -41.3944\n",
      "warning: basinhopping: local minimization failure\n",
      "basinhopping step 6: f -41.3944 trial_f -32.8131 accepted 0  lowest_f -41.3944\n",
      "warning: basinhopping: local minimization failure\n",
      "basinhopping step 7: f -41.3944 trial_f -1.20234 accepted 0  lowest_f -41.3944\n",
      "warning: basinhopping: local minimization failure\n",
      "basinhopping step 8: f -39.7522 trial_f -39.7522 accepted 1  lowest_f -41.3944\n",
      "warning: basinhopping: local minimization failure\n",
      "basinhopping step 9: f -39.7711 trial_f -39.7711 accepted 1  lowest_f -41.3944\n",
      "basinhopping step 10: f -38.6336 trial_f -38.6336 accepted 1  lowest_f -41.3944\n"
     ]
    }
   ],
   "source": [
    "LjN(13,10,10,10) #Large T Large Step  FAILURE"
   ]
  },
  {
   "cell_type": "code",
   "execution_count": 61,
   "metadata": {
    "collapsed": false
   },
   "outputs": [
    {
     "name": "stdout",
     "output_type": "stream",
     "text": [
      "warning: basinhopping: local minimization failure\n",
      "basinhopping step 0: f -40.6738\n",
      "basinhopping step 1: f -40.6738 trial_f -37.7502 accepted 0  lowest_f -40.6738\n",
      "warning: basinhopping: local minimization failure\n",
      "basinhopping step 2: f -40.6738 trial_f -36.4207 accepted 0  lowest_f -40.6738\n",
      "warning: basinhopping: local minimization failure\n",
      "basinhopping step 3: f -37.1478 trial_f -37.1478 accepted 1  lowest_f -40.6738\n",
      "warning: basinhopping: local minimization failure\n",
      "basinhopping step 4: f -44.3268 trial_f -44.3268 accepted 1  lowest_f -44.3268\n",
      "found new global minimum on step 4 with function value -44.3268\n",
      "warning: basinhopping: local minimization failure\n",
      "basinhopping step 5: f -44.3268 trial_f -38.7377 accepted 0  lowest_f -44.3268\n",
      "basinhopping step 6: f -44.3268 trial_f -39.7711 accepted 0  lowest_f -44.3268\n",
      "warning: basinhopping: local minimization failure\n",
      "basinhopping step 7: f -44.3268 trial_f -39.5467 accepted 0  lowest_f -44.3268\n",
      "warning: basinhopping: local minimization failure\n",
      "basinhopping step 8: f -44.3268 trial_f -39.6541 accepted 0  lowest_f -44.3268\n",
      "warning: basinhopping: local minimization failure\n",
      "basinhopping step 9: f -44.3268 trial_f -44.3268 accepted 1  lowest_f -44.3268\n",
      "found new global minimum on step 9 with function value -44.3268\n",
      "basinhopping step 10: f -44.3268 trial_f -38.0753 accepted 0  lowest_f -44.3268\n"
     ]
    }
   ],
   "source": [
    "LjN(13,10,3,10) #Small T Large Step SUCCESS"
   ]
  },
  {
   "cell_type": "code",
   "execution_count": 65,
   "metadata": {
    "collapsed": false
   },
   "outputs": [
    {
     "name": "stdout",
     "output_type": "stream",
     "text": [
      "warning: basinhopping: local minimization failure\n",
      "basinhopping step 0: f -40.6155\n",
      "warning: basinhopping: local minimization failure\n",
      "basinhopping step 1: f -39.6355 trial_f -39.6355 accepted 1  lowest_f -40.6155\n",
      "basinhopping step 2: f -39.2522 trial_f -39.2522 accepted 1  lowest_f -40.6155\n",
      "basinhopping step 3: f -39.2522 trial_f -36.4714 accepted 0  lowest_f -40.6155\n",
      "warning: basinhopping: local minimization failure\n",
      "basinhopping step 4: f -39.2522 trial_f -32.225 accepted 0  lowest_f -40.6155\n",
      "warning: basinhopping: local minimization failure\n",
      "basinhopping step 5: f -39.2522 trial_f -38.4283 accepted 0  lowest_f -40.6155\n",
      "warning: basinhopping: local minimization failure\n",
      "basinhopping step 6: f -39.2522 trial_f -7.43986 accepted 0  lowest_f -40.6155\n",
      "basinhopping step 7: f -39.2522 trial_f -38.5514 accepted 0  lowest_f -40.6155\n",
      "warning: basinhopping: local minimization failure\n",
      "basinhopping step 8: f -39.7966 trial_f -39.7966 accepted 1  lowest_f -40.6155\n",
      "warning: basinhopping: local minimization failure\n",
      "basinhopping step 9: f -38.8058 trial_f -38.8058 accepted 1  lowest_f -40.6155\n",
      "warning: basinhopping: local minimization failure\n",
      "basinhopping step 10: f -38.8058 trial_f -38.5614 accepted 0  lowest_f -40.6155\n"
     ]
    }
   ],
   "source": [
    "LjN(13,10,1,10) #Smallest T same step  FAILURE"
   ]
  },
  {
   "cell_type": "code",
   "execution_count": 66,
   "metadata": {
    "collapsed": false
   },
   "outputs": [
    {
     "name": "stdout",
     "output_type": "stream",
     "text": [
      "basinhopping step 0: f -41.472\n",
      "basinhopping step 1: f -41.472 trial_f -39.9654 accepted 0  lowest_f -41.472\n",
      "warning: basinhopping: local minimization failure\n",
      "basinhopping step 2: f -40.5413 trial_f -40.5413 accepted 1  lowest_f -41.472\n",
      "warning: basinhopping: local minimization failure\n",
      "basinhopping step 3: f -40.5413 trial_f -31.5287 accepted 0  lowest_f -41.472\n",
      "warning: basinhopping: local minimization failure\n",
      "basinhopping step 4: f -40.5413 trial_f -38.9232 accepted 0  lowest_f -41.472\n",
      "basinhopping step 5: f -40.5413 trial_f -33.7908 accepted 0  lowest_f -41.472\n",
      "warning: basinhopping: local minimization failure\n",
      "basinhopping step 6: f -40.5413 trial_f -2.08298 accepted 0  lowest_f -41.472\n",
      "warning: basinhopping: local minimization failure\n",
      "basinhopping step 7: f -39.1972 trial_f -39.1972 accepted 1  lowest_f -41.472\n",
      "basinhopping step 8: f -39.6355 trial_f -39.6355 accepted 1  lowest_f -41.472\n",
      "warning: basinhopping: local minimization failure\n",
      "basinhopping step 9: f -39.6355 trial_f -36.3949 accepted 0  lowest_f -41.472\n",
      "basinhopping step 10: f -39.6355 trial_f -19.2077 accepted 0  lowest_f -41.472\n"
     ]
    }
   ],
   "source": [
    "LjN(13,10,2,10) #Smaller T same step failure"
   ]
  },
  {
   "cell_type": "code",
   "execution_count": 67,
   "metadata": {
    "collapsed": false
   },
   "outputs": [
    {
     "name": "stdout",
     "output_type": "stream",
     "text": [
      "warning: basinhopping: local minimization failure\n",
      "basinhopping step 0: f -39.7522\n",
      "warning: basinhopping: local minimization failure\n",
      "basinhopping step 1: f -39.5467 trial_f -39.5467 accepted 1  lowest_f -39.7522\n",
      "warning: basinhopping: local minimization failure\n",
      "basinhopping step 2: f -39.5467 trial_f -38.7114 accepted 0  lowest_f -39.7522\n",
      "warning: basinhopping: local minimization failure\n",
      "basinhopping step 3: f -40.0751 trial_f -40.0751 accepted 1  lowest_f -40.0751\n",
      "found new global minimum on step 3 with function value -40.0751\n",
      "warning: basinhopping: local minimization failure\n",
      "basinhopping step 4: f -40.0751 trial_f -13.7045 accepted 0  lowest_f -40.0751\n",
      "warning: basinhopping: local minimization failure\n",
      "basinhopping step 5: f -39.6749 trial_f -39.6749 accepted 1  lowest_f -40.0751\n",
      "warning: basinhopping: local minimization failure\n",
      "basinhopping step 6: f -39.6749 trial_f -37.9676 accepted 0  lowest_f -40.0751\n",
      "warning: basinhopping: local minimization failure\n",
      "basinhopping step 7: f -30.9202 trial_f -30.9202 accepted 1  lowest_f -40.0751\n",
      "warning: basinhopping: local minimization failure\n",
      "basinhopping step 8: f -30.922 trial_f -30.922 accepted 1  lowest_f -40.0751\n",
      "basinhopping step 9: f -30.922 trial_f -29.8424 accepted 0  lowest_f -40.0751\n",
      "warning: basinhopping: local minimization failure\n",
      "basinhopping step 10: f -31.4269 trial_f -31.4269 accepted 1  lowest_f -40.0751\n"
     ]
    }
   ],
   "source": [
    "LjN(13,10,4,10)  #Slightly larger T same step  FAILURE"
   ]
  },
  {
   "cell_type": "code",
   "execution_count": 68,
   "metadata": {
    "collapsed": false
   },
   "outputs": [
    {
     "name": "stdout",
     "output_type": "stream",
     "text": [
      "warning: basinhopping: local minimization failure\n",
      "basinhopping step 0: f -36.6391\n",
      "warning: basinhopping: local minimization failure\n",
      "basinhopping step 1: f -36.6391 trial_f -34.3169 accepted 0  lowest_f -36.6391\n",
      "warning: basinhopping: local minimization failure\n",
      "basinhopping step 2: f -38.5263 trial_f -38.5263 accepted 1  lowest_f -38.5263\n",
      "found new global minimum on step 2 with function value -38.5263\n",
      "basinhopping step 3: f -38.5263 trial_f -35.4462 accepted 0  lowest_f -38.5263\n",
      "warning: basinhopping: local minimization failure\n",
      "basinhopping step 4: f -38.5263 trial_f -1.20954 accepted 0  lowest_f -38.5263\n",
      "warning: basinhopping: local minimization failure\n",
      "basinhopping step 5: f -38.8593 trial_f -38.8593 accepted 1  lowest_f -38.8593\n",
      "found new global minimum on step 5 with function value -38.8593\n",
      "basinhopping step 6: f -38.8593 trial_f -38.5263 accepted 0  lowest_f -38.8593\n",
      "warning: basinhopping: local minimization failure\n",
      "basinhopping step 7: f -37.7233 trial_f -37.7233 accepted 1  lowest_f -38.8593\n",
      "basinhopping step 8: f -36.3768 trial_f -36.3768 accepted 1  lowest_f -38.8593\n",
      "warning: basinhopping: local minimization failure\n",
      "basinhopping step 9: f -37.5036 trial_f -37.5036 accepted 1  lowest_f -38.8593\n",
      "basinhopping step 10: f -39.4307 trial_f -39.4307 accepted 1  lowest_f -39.4307\n",
      "found new global minimum on step 10 with function value -39.4307\n"
     ]
    }
   ],
   "source": [
    "LjN(13,10,3,9)  # 3T 9 Step FAILURE"
   ]
  },
  {
   "cell_type": "code",
   "execution_count": 69,
   "metadata": {
    "collapsed": false
   },
   "outputs": [
    {
     "name": "stdout",
     "output_type": "stream",
     "text": [
      "warning: basinhopping: local minimization failure\n",
      "basinhopping step 0: f -39.4062\n",
      "warning: basinhopping: local minimization failure\n",
      "basinhopping step 1: f -39.4062 trial_f -34.3004 accepted 0  lowest_f -39.4062\n",
      "warning: basinhopping: local minimization failure\n",
      "basinhopping step 2: f -40.7285 trial_f -40.7285 accepted 1  lowest_f -40.7285\n",
      "found new global minimum on step 2 with function value -40.7285\n",
      "warning: basinhopping: local minimization failure\n",
      "basinhopping step 3: f -38.5476 trial_f -38.5476 accepted 1  lowest_f -40.7285\n",
      "basinhopping step 4: f -38.5476 trial_f -35.2209 accepted 0  lowest_f -40.7285\n",
      "warning: basinhopping: local minimization failure\n",
      "basinhopping step 5: f -38.5476 trial_f -30.4468 accepted 0  lowest_f -40.7285\n",
      "warning: basinhopping: local minimization failure\n",
      "basinhopping step 6: f -38.5476 trial_f -29.7585 accepted 0  lowest_f -40.7285\n",
      "basinhopping step 7: f -38.5476 trial_f -13.1039 accepted 0  lowest_f -40.7285\n",
      "warning: basinhopping: local minimization failure\n",
      "basinhopping step 8: f -38.5476 trial_f -1.95944 accepted 0  lowest_f -40.7285\n",
      "warning: basinhopping: local minimization failure\n",
      "basinhopping step 9: f -38.5476 trial_f -27.5955 accepted 0  lowest_f -40.7285\n",
      "warning: basinhopping: local minimization failure\n",
      "basinhopping step 10: f -37.7746 trial_f -37.7746 accepted 1  lowest_f -40.7285\n"
     ]
    }
   ],
   "source": [
    "LjN(13,10,3,11) #3T 11 Step FAILURE"
   ]
  },
  {
   "cell_type": "markdown",
   "metadata": {},
   "source": [
    "It seems that my prediction was correct in that the Temperature value is optimal for finding the global minimum as a relation between the next lowest energies.  The step size might be a certain proportion of T to find success."
   ]
  },
  {
   "cell_type": "markdown",
   "metadata": {},
   "source": [
    "## <center>19 Atoms"
   ]
  },
  {
   "cell_type": "code",
   "execution_count": 46,
   "metadata": {
    "collapsed": false
   },
   "outputs": [
    {
     "name": "stdout",
     "output_type": "stream",
     "text": [
      "From Cambridge, the minimum energy of a 19 atom cluster is\n",
      " -72.6597824338 \n",
      "\n",
      "The geometry of a 19 atom cluster is shown here\n"
     ]
    },
    {
     "data": {
      "image/png": "[encoded data removed]",
      "text/plain": [
       "<matplotlib.figure.Figure at 0x17d60aca780>"
      ]
     },
     "metadata": {},
     "output_type": "display_data"
    }
   ],
   "source": [
    "pos = dist(19)\n",
    "V = Total_energy(pos)\n",
    "print('From Cambridge, the minimum energy of a 19 atom cluster is\\n',V,'\\n\\nThe geometry of a 19 atom cluster is shown here')\n",
    "\n",
    "# for plot\n",
    "X,Y,Z = positions(19)\n",
    "fig = plt.figure()\n",
    "ax = fig.gca(projection='3d')\n",
    "ax.plot_trisurf(X, Y, Z)\n",
    "ax.view_init(elev=20, azim=315)\n",
    "plt.show()\n"
   ]
  },
  {
   "cell_type": "markdown",
   "metadata": {},
   "source": [
    "The geometry of a 19 atom cluter is isocahedral.<sup>[1]<sup>"
   ]
  },
  {
   "cell_type": "markdown",
   "metadata": {},
   "source": [
    "## <center>Forest diagram of 19 atoms<sup>[1]<sup>\n",
    "\n",
    "\n",
    "![Image of 19Forrest](http://doye.chem.ox.ac.uk/research/forest/treeLJ19.gif)"
   ]
  },
  {
   "cell_type": "code",
   "execution_count": 76,
   "metadata": {
    "collapsed": false
   },
   "outputs": [
    {
     "name": "stdout",
     "output_type": "stream",
     "text": [
      "warning: basinhopping: local minimization failure\n",
      "basinhopping step 0: f -65.1435\n",
      "warning: basinhopping: local minimization failure\n",
      "basinhopping step 1: f -65.1435 trial_f -62.9488 accepted 0  lowest_f -65.1435\n",
      "basinhopping step 2: f -67.9945 trial_f -67.9945 accepted 1  lowest_f -67.9945\n",
      "found new global minimum on step 2 with function value -67.9945\n",
      "warning: basinhopping: local minimization failure\n",
      "basinhopping step 3: f -67.9945 trial_f -62.2026 accepted 0  lowest_f -67.9945\n",
      "warning: basinhopping: local minimization failure\n",
      "basinhopping step 4: f -67.9945 trial_f -66.9953 accepted 0  lowest_f -67.9945\n",
      "warning: basinhopping: local minimization failure\n",
      "basinhopping step 5: f -67.9945 trial_f -60.7336 accepted 0  lowest_f -67.9945\n",
      "basinhopping step 6: f -70.8187 trial_f -70.8187 accepted 1  lowest_f -70.8187\n",
      "found new global minimum on step 6 with function value -70.8187\n",
      "warning: basinhopping: local minimization failure\n",
      "basinhopping step 7: f -70.8187 trial_f -2.51009 accepted 0  lowest_f -70.8187\n",
      "warning: basinhopping: local minimization failure\n",
      "basinhopping step 8: f -70.8187 trial_f -62.6658 accepted 0  lowest_f -70.8187\n",
      "warning: basinhopping: local minimization failure\n",
      "basinhopping step 9: f -70.8187 trial_f -64.9391 accepted 0  lowest_f -70.8187\n",
      "warning: basinhopping: local minimization failure\n",
      "basinhopping step 10: f -70.8187 trial_f -1.00891 accepted 0  lowest_f -70.8187\n"
     ]
    }
   ],
   "source": [
    "LjN(19,10,3,10) # 3 temp 10 step close"
   ]
  },
  {
   "cell_type": "code",
   "execution_count": 77,
   "metadata": {
    "collapsed": false
   },
   "outputs": [
    {
     "name": "stdout",
     "output_type": "stream",
     "text": [
      "warning: basinhopping: local minimization failure\n",
      "basinhopping step 0: f -58.2619\n",
      "warning: basinhopping: local minimization failure\n",
      "basinhopping step 1: f -58.4599 trial_f -58.4599 accepted 1  lowest_f -58.4599\n",
      "found new global minimum on step 1 with function value -58.4599\n",
      "warning: basinhopping: local minimization failure\n",
      "basinhopping step 2: f -58.5031 trial_f -58.5031 accepted 1  lowest_f -58.5031\n",
      "found new global minimum on step 2 with function value -58.5031\n",
      "warning: basinhopping: local minimization failure\n",
      "basinhopping step 3: f -53.2316 trial_f -53.2316 accepted 1  lowest_f -58.5031\n",
      "warning: basinhopping: local minimization failure\n",
      "basinhopping step 4: f -56.4412 trial_f -56.4412 accepted 1  lowest_f -58.5031\n",
      "warning: basinhopping: local minimization failure\n",
      "basinhopping step 5: f -58.2257 trial_f -58.2257 accepted 1  lowest_f -58.5031\n",
      "warning: basinhopping: local minimization failure\n",
      "basinhopping step 6: f -52.5837 trial_f -52.5837 accepted 1  lowest_f -58.5031\n",
      "warning: basinhopping: local minimization failure\n",
      "basinhopping step 7: f -51.9734 trial_f -51.9734 accepted 1  lowest_f -58.5031\n",
      "warning: basinhopping: local minimization failure\n",
      "basinhopping step 8: f -56.8157 trial_f -56.8157 accepted 1  lowest_f -58.5031\n",
      "basinhopping step 9: f -53.9074 trial_f -53.9074 accepted 1  lowest_f -58.5031\n",
      "warning: basinhopping: local minimization failure\n",
      "basinhopping step 10: f -52.5654 trial_f -52.5654 accepted 1  lowest_f -58.5031\n"
     ]
    }
   ],
   "source": [
    "LjN(19,10,10,3) # 10 temp 3 step FAILURE"
   ]
  },
  {
   "cell_type": "code",
   "execution_count": 78,
   "metadata": {
    "collapsed": false
   },
   "outputs": [
    {
     "name": "stdout",
     "output_type": "stream",
     "text": [
      "basinhopping step 0: f -67.9408\n",
      "warning: basinhopping: local minimization failure\n",
      "basinhopping step 1: f -67.9408 trial_f -64.9228 accepted 0  lowest_f -67.9408\n",
      "warning: basinhopping: local minimization failure\n",
      "basinhopping step 2: f -67.9408 trial_f -59.7186 accepted 0  lowest_f -67.9408\n",
      "warning: basinhopping: local minimization failure\n",
      "basinhopping step 3: f -69.4018 trial_f -69.4018 accepted 1  lowest_f -69.4018\n",
      "found new global minimum on step 3 with function value -69.4018\n",
      "warning: basinhopping: local minimization failure\n",
      "basinhopping step 4: f -69.4018 trial_f -60.2527 accepted 0  lowest_f -69.4018\n",
      "basinhopping step 5: f -69.9853 trial_f -69.9853 accepted 1  lowest_f -69.9853\n",
      "found new global minimum on step 5 with function value -69.9853\n",
      "warning: basinhopping: local minimization failure\n",
      "basinhopping step 6: f -69.9853 trial_f -63.5819 accepted 0  lowest_f -69.9853\n",
      "warning: basinhopping: local minimization failure\n",
      "basinhopping step 7: f -69.9853 trial_f -64.8436 accepted 0  lowest_f -69.9853\n",
      "basinhopping step 8: f -69.9853 trial_f -67.1286 accepted 0  lowest_f -69.9853\n",
      "warning: basinhopping: local minimization failure\n",
      "basinhopping step 9: f -69.9853 trial_f -64.8747 accepted 0  lowest_f -69.9853\n",
      "warning: basinhopping: local minimization failure\n",
      "basinhopping step 10: f -67.0756 trial_f -67.0756 accepted 1  lowest_f -69.9853\n"
     ]
    }
   ],
   "source": [
    "LjN(19,10,4,10)"
   ]
  },
  {
   "cell_type": "code",
   "execution_count": 79,
   "metadata": {
    "collapsed": false
   },
   "outputs": [
    {
     "name": "stdout",
     "output_type": "stream",
     "text": [
      "warning: basinhopping: local minimization failure\n",
      "basinhopping step 0: f -65.2708\n",
      "warning: basinhopping: local minimization failure\n",
      "basinhopping step 1: f -65.2708 trial_f -62.9913 accepted 0  lowest_f -65.2708\n",
      "warning: basinhopping: local minimization failure\n",
      "basinhopping step 2: f -65.2708 trial_f -64.2502 accepted 0  lowest_f -65.2708\n",
      "warning: basinhopping: local minimization failure\n",
      "basinhopping step 3: f -65.2708 trial_f -56.8582 accepted 0  lowest_f -65.2708\n",
      "basinhopping step 4: f -65.2708 trial_f -58.7371 accepted 0  lowest_f -65.2708\n",
      "warning: basinhopping: local minimization failure\n",
      "basinhopping step 5: f -65.0529 trial_f -65.0529 accepted 1  lowest_f -65.2708\n",
      "warning: basinhopping: local minimization failure\n",
      "basinhopping step 6: f -65.0529 trial_f -59.9941 accepted 0  lowest_f -65.2708\n",
      "warning: basinhopping: local minimization failure\n",
      "basinhopping step 7: f -65.0529 trial_f -61.5045 accepted 0  lowest_f -65.2708\n",
      "warning: basinhopping: local minimization failure\n",
      "basinhopping step 8: f -65.0668 trial_f -65.0668 accepted 1  lowest_f -65.2708\n",
      "basinhopping step 9: f -68.4992 trial_f -68.4992 accepted 1  lowest_f -68.4992\n",
      "found new global minimum on step 9 with function value -68.4992\n",
      "warning: basinhopping: local minimization failure\n",
      "basinhopping step 10: f -68.4992 trial_f -56.7744 accepted 0  lowest_f -68.4992\n"
     ]
    }
   ],
   "source": [
    "LjN(19,10,4,11)"
   ]
  },
  {
   "cell_type": "code",
   "execution_count": 80,
   "metadata": {
    "collapsed": false
   },
   "outputs": [
    {
     "name": "stdout",
     "output_type": "stream",
     "text": [
      "basinhopping step 0: f -64.0126\n",
      "warning: basinhopping: local minimization failure\n",
      "basinhopping step 1: f -63.0042 trial_f -63.0042 accepted 1  lowest_f -64.0126\n",
      "warning: basinhopping: local minimization failure\n",
      "basinhopping step 2: f -61.0643 trial_f -61.0643 accepted 1  lowest_f -64.0126\n",
      "warning: basinhopping: local minimization failure\n",
      "basinhopping step 3: f -60.175 trial_f -60.175 accepted 1  lowest_f -64.0126\n",
      "basinhopping step 4: f -67.7814 trial_f -67.7814 accepted 1  lowest_f -67.7814\n",
      "found new global minimum on step 4 with function value -67.7814\n",
      "warning: basinhopping: local minimization failure\n",
      "basinhopping step 5: f -62.8958 trial_f -62.8958 accepted 1  lowest_f -67.7814\n",
      "warning: basinhopping: local minimization failure\n",
      "basinhopping step 6: f -66.2009 trial_f -66.2009 accepted 1  lowest_f -67.7814\n",
      "warning: basinhopping: local minimization failure\n",
      "basinhopping step 7: f -66.2009 trial_f -4.88142 accepted 0  lowest_f -67.7814\n",
      "basinhopping step 8: f -67.0395 trial_f -67.0395 accepted 1  lowest_f -67.7814\n",
      "basinhopping step 9: f -65.22 trial_f -65.22 accepted 1  lowest_f -67.7814\n",
      "warning: basinhopping: local minimization failure\n",
      "basinhopping step 10: f -63.6944 trial_f -63.6944 accepted 1  lowest_f -67.7814\n"
     ]
    }
   ],
   "source": [
    "LjN(19,10,2.5,10)"
   ]
  },
  {
   "cell_type": "code",
   "execution_count": 81,
   "metadata": {
    "collapsed": false
   },
   "outputs": [
    {
     "name": "stdout",
     "output_type": "stream",
     "text": [
      "warning: basinhopping: local minimization failure\n",
      "basinhopping step 0: f -63.9738\n",
      "basinhopping step 1: f -67.6198 trial_f -67.6198 accepted 1  lowest_f -67.6198\n",
      "found new global minimum on step 1 with function value -67.6198\n",
      "warning: basinhopping: local minimization failure\n",
      "basinhopping step 2: f -67.6198 trial_f -64.0701 accepted 0  lowest_f -67.6198\n",
      "warning: basinhopping: local minimization failure\n",
      "basinhopping step 3: f -67.6198 trial_f -2.00171 accepted 0  lowest_f -67.6198\n",
      "warning: basinhopping: local minimization failure\n",
      "basinhopping step 4: f -67.6198 trial_f -66.0696 accepted 0  lowest_f -67.6198\n",
      "warning: basinhopping: local minimization failure\n",
      "basinhopping step 5: f -67.6198 trial_f -48.3349 accepted 0  lowest_f -67.6198\n",
      "basinhopping step 6: f -67.6198 trial_f -66.2756 accepted 0  lowest_f -67.6198\n",
      "warning: basinhopping: local minimization failure\n",
      "basinhopping step 7: f -67.6198 trial_f -57.9198 accepted 0  lowest_f -67.6198\n",
      "warning: basinhopping: local minimization failure\n",
      "basinhopping step 8: f -67.6198 trial_f -62.7925 accepted 0  lowest_f -67.6198\n",
      "warning: basinhopping: local minimization failure\n",
      "basinhopping step 9: f -67.6198 trial_f -1.00515 accepted 0  lowest_f -67.6198\n",
      "basinhopping step 10: f -69.9235 trial_f -69.9235 accepted 1  lowest_f -69.9235\n",
      "found new global minimum on step 10 with function value -69.9235\n"
     ]
    }
   ],
   "source": [
    "LjN(19,10,0.5,10)"
   ]
  },
  {
   "cell_type": "code",
   "execution_count": 82,
   "metadata": {
    "collapsed": false
   },
   "outputs": [
    {
     "name": "stdout",
     "output_type": "stream",
     "text": [
      "basinhopping step 0: f -67.0532\n",
      "basinhopping step 1: f -67.0532 trial_f -66.6352 accepted 0  lowest_f -67.0532\n",
      "warning: basinhopping: local minimization failure\n",
      "basinhopping step 2: f -68.6878 trial_f -68.6878 accepted 1  lowest_f -68.6878\n",
      "found new global minimum on step 2 with function value -68.6878\n",
      "warning: basinhopping: local minimization failure\n",
      "basinhopping step 3: f -70.7257 trial_f -70.7257 accepted 1  lowest_f -70.7257\n",
      "found new global minimum on step 3 with function value -70.7257\n",
      "warning: basinhopping: local minimization failure\n",
      "basinhopping step 4: f -70.7257 trial_f -70.148 accepted 0  lowest_f -70.7257\n",
      "warning: basinhopping: local minimization failure\n",
      "basinhopping step 5: f -70.7257 trial_f -67.078 accepted 0  lowest_f -70.7257\n",
      "warning: basinhopping: local minimization failure\n",
      "basinhopping step 6: f -70.7257 trial_f -59.2501 accepted 0  lowest_f -70.7257\n",
      "warning: basinhopping: local minimization failure\n",
      "basinhopping step 7: f -70.7257 trial_f -66.1769 accepted 0  lowest_f -70.7257\n",
      "warning: basinhopping: local minimization failure\n",
      "basinhopping step 8: f -70.7257 trial_f -65.4445 accepted 0  lowest_f -70.7257\n",
      "warning: basinhopping: local minimization failure\n",
      "basinhopping step 9: f -70.7257 trial_f -67.6035 accepted 0  lowest_f -70.7257\n",
      "warning: basinhopping: local minimization failure\n",
      "basinhopping step 10: f -70.7257 trial_f -69.3888 accepted 0  lowest_f -70.7257\n"
     ]
    }
   ],
   "source": [
    "LjN(19,10,0.5,5)"
   ]
  },
  {
   "cell_type": "code",
   "execution_count": 102,
   "metadata": {
    "collapsed": false
   },
   "outputs": [
    {
     "name": "stdout",
     "output_type": "stream",
     "text": [
      "warning: basinhopping: local minimization failure\n",
      "basinhopping step 0: f -66.5441\n",
      "warning: basinhopping: local minimization failure\n",
      "basinhopping step 1: f -66.6665 trial_f -66.6665 accepted 1  lowest_f -66.6665\n",
      "found new global minimum on step 1 with function value -66.6665\n",
      "warning: basinhopping: local minimization failure\n",
      "basinhopping step 2: f -64.5213 trial_f -64.5213 accepted 1  lowest_f -66.6665\n",
      "warning: basinhopping: local minimization failure\n",
      "basinhopping step 3: f -67.6645 trial_f -67.6645 accepted 1  lowest_f -67.6645\n",
      "found new global minimum on step 3 with function value -67.6645\n",
      "warning: basinhopping: local minimization failure\n",
      "basinhopping step 4: f -67.2739 trial_f -67.2739 accepted 1  lowest_f -67.6645\n",
      "warning: basinhopping: local minimization failure\n",
      "basinhopping step 5: f -67.559 trial_f -67.559 accepted 1  lowest_f -67.6645\n",
      "warning: basinhopping: local minimization failure\n",
      "basinhopping step 6: f -68.4112 trial_f -68.4112 accepted 1  lowest_f -68.4112\n",
      "found new global minimum on step 6 with function value -68.4112\n",
      "warning: basinhopping: local minimization failure\n",
      "basinhopping step 7: f -68.4112 trial_f -67.5747 accepted 0  lowest_f -68.4112\n",
      "warning: basinhopping: local minimization failure\n",
      "basinhopping step 8: f -70.8187 trial_f -70.8187 accepted 1  lowest_f -70.8187\n",
      "found new global minimum on step 8 with function value -70.8187\n",
      "warning: basinhopping: local minimization failure\n",
      "basinhopping step 9: f -68.3268 trial_f -68.3268 accepted 1  lowest_f -70.8187\n",
      "warning: basinhopping: local minimization failure\n",
      "basinhopping step 10: f -69.3273 trial_f -69.3273 accepted 1  lowest_f -70.8187\n"
     ]
    }
   ],
   "source": [
    "LjN(19,10,30.3,3)"
   ]
  },
  {
   "cell_type": "code",
   "execution_count": 103,
   "metadata": {
    "collapsed": false
   },
   "outputs": [
    {
     "name": "stdout",
     "output_type": "stream",
     "text": [
      "warning: basinhopping: local minimization failure\n",
      "basinhopping step 0: f -66.2559\n",
      "basinhopping step 1: f -66.1111 trial_f -66.1111 accepted 1  lowest_f -66.2559\n",
      "warning: basinhopping: local minimization failure\n",
      "basinhopping step 2: f -66.1111 trial_f -43.1411 accepted 0  lowest_f -66.2559\n",
      "warning: basinhopping: local minimization failure\n",
      "basinhopping step 3: f -71.0827 trial_f -71.0827 accepted 1  lowest_f -71.0827\n",
      "found new global minimum on step 3 with function value -71.0827\n",
      "warning: basinhopping: local minimization failure\n",
      "basinhopping step 4: f -61.554 trial_f -61.554 accepted 1  lowest_f -71.0827\n",
      "basinhopping step 5: f -72.6598 trial_f -72.6598 accepted 1  lowest_f -72.6598\n",
      "found new global minimum on step 5 with function value -72.6598\n",
      "warning: basinhopping: local minimization failure\n",
      "basinhopping step 6: f -67.5287 trial_f -67.5287 accepted 1  lowest_f -72.6598\n",
      "warning: basinhopping: local minimization failure\n",
      "basinhopping step 7: f -64.0469 trial_f -64.0469 accepted 1  lowest_f -72.6598\n",
      "warning: basinhopping: local minimization failure\n",
      "basinhopping step 8: f -64.0469 trial_f -55.2722 accepted 0  lowest_f -72.6598\n",
      "warning: basinhopping: local minimization failure\n",
      "basinhopping step 9: f -61.7837 trial_f -61.7837 accepted 1  lowest_f -72.6598\n",
      "warning: basinhopping: local minimization failure\n",
      "basinhopping step 10: f -63.1689 trial_f -63.1689 accepted 1  lowest_f -72.6598\n",
      "warning: basinhopping: local minimization failure\n",
      "basinhopping step 11: f -52.0792 trial_f -52.0792 accepted 1  lowest_f -72.6598\n",
      "warning: basinhopping: local minimization failure\n",
      "basinhopping step 12: f -50.7657 trial_f -50.7657 accepted 1  lowest_f -72.6598\n",
      "warning: basinhopping: local minimization failure\n",
      "basinhopping step 13: f -55.8489 trial_f -55.8489 accepted 1  lowest_f -72.6598\n",
      "warning: basinhopping: local minimization failure\n",
      "basinhopping step 14: f -55.8489 trial_f -44.9762 accepted 0  lowest_f -72.6598\n",
      "warning: basinhopping: local minimization failure\n",
      "basinhopping step 15: f -55.5869 trial_f -55.5869 accepted 1  lowest_f -72.6598\n",
      "warning: basinhopping: local minimization failure\n",
      "basinhopping step 16: f -55.3454 trial_f -55.3454 accepted 1  lowest_f -72.6598\n",
      "warning: basinhopping: local minimization failure\n",
      "basinhopping step 17: f -56.8157 trial_f -56.8157 accepted 1  lowest_f -72.6598\n",
      "warning: basinhopping: local minimization failure\n",
      "basinhopping step 18: f -49.8259 trial_f -49.8259 accepted 1  lowest_f -72.6598\n",
      "warning: basinhopping: local minimization failure\n",
      "basinhopping step 19: f -55.8489 trial_f -55.8489 accepted 1  lowest_f -72.6598\n",
      "warning: basinhopping: local minimization failure\n",
      "basinhopping step 20: f -50.6326 trial_f -50.6326 accepted 1  lowest_f -72.6598\n"
     ]
    }
   ],
   "source": [
    "#It seems that we need more iterations to compute 19 atoms with these parameters\n",
    "\n",
    "LjN(19,20,30.3,3)  # Success"
   ]
  },
  {
   "cell_type": "markdown",
   "metadata": {},
   "source": [
    "There was no porportion between step size and temperature given by the previous trials.  Instead I can infer that as more atoms are added to the cluster, the temperature must increase, and the step size must decrease while the number of iterations needed to find the minimum increases."
   ]
  },
  {
   "cell_type": "markdown",
   "metadata": {},
   "source": [
    "## <center>15 atoms\n",
    "\n",
    "According to my hypothesis, 15 atoms must have a T value intermediate between 3 and 30 and the step in the intermediate of 3 and 10."
   ]
  },
  {
   "cell_type": "code",
   "execution_count": 110,
   "metadata": {
    "collapsed": false
   },
   "outputs": [
    {
     "name": "stdout",
     "output_type": "stream",
     "text": [
      "From Cambridge, the minimum energy of a 15 atom cluster is\n",
      " -52.3226272461 \n",
      "\n",
      "The geometry of a 15 atom cluster is shown here\n"
     ]
    },
    {
     "data": {
      "image/png": "[encoded data removed]",
      "text/plain": [
       "<matplotlib.figure.Figure at 0x17d5f413898>"
      ]
     },
     "metadata": {},
     "output_type": "display_data"
    }
   ],
   "source": [
    "pos = dist(15)\n",
    "V = Total_energy(pos)\n",
    "print('From Cambridge, the minimum energy of a 15 atom cluster is\\n',V,'\\n\\nThe geometry of a 15 atom cluster is shown here')\n",
    "\n",
    "# for plot\n",
    "X,Y,Z = positions(15)\n",
    "fig = plt.figure()\n",
    "ax = fig.gca(projection='3d')\n",
    "ax.plot_trisurf(X, Y, Z)\n",
    "ax.view_init(elev=20, azim=315)\n",
    "plt.show()"
   ]
  },
  {
   "cell_type": "code",
   "execution_count": 112,
   "metadata": {
    "collapsed": false
   },
   "outputs": [
    {
     "name": "stdout",
     "output_type": "stream",
     "text": [
      "warning: basinhopping: local minimization failure\n",
      "basinhopping step 0: f -51.3674\n",
      "warning: basinhopping: local minimization failure\n",
      "basinhopping step 1: f -52.3226 trial_f -52.3226 accepted 1  lowest_f -52.3226\n",
      "found new global minimum on step 1 with function value -52.3226\n",
      "basinhopping step 2: f -52.3226 trial_f -46.1392 accepted 0  lowest_f -52.3226\n",
      "warning: basinhopping: local minimization failure\n",
      "basinhopping step 3: f -52.3226 trial_f -43.233 accepted 0  lowest_f -52.3226\n",
      "warning: basinhopping: local minimization failure\n",
      "basinhopping step 4: f -52.3226 trial_f -47.1519 accepted 0  lowest_f -52.3226\n",
      "basinhopping step 5: f -52.3226 trial_f -44.3519 accepted 0  lowest_f -52.3226\n",
      "warning: basinhopping: local minimization failure\n",
      "basinhopping step 6: f -47.6763 trial_f -47.6763 accepted 1  lowest_f -52.3226\n",
      "warning: basinhopping: local minimization failure\n",
      "basinhopping step 7: f -48.6384 trial_f -48.6384 accepted 1  lowest_f -52.3226\n",
      "warning: basinhopping: local minimization failure\n",
      "basinhopping step 8: f -45.9716 trial_f -45.9716 accepted 1  lowest_f -52.3226\n",
      "warning: basinhopping: local minimization failure\n",
      "basinhopping step 9: f -47.39 trial_f -47.39 accepted 1  lowest_f -52.3226\n",
      "basinhopping step 10: f -47.39 trial_f -43.0795 accepted 0  lowest_f -52.3226\n",
      "warning: basinhopping: local minimization failure\n",
      "basinhopping step 11: f -44.6552 trial_f -44.6552 accepted 1  lowest_f -52.3226\n",
      "warning: basinhopping: local minimization failure\n",
      "basinhopping step 12: f -47.011 trial_f -47.011 accepted 1  lowest_f -52.3226\n",
      "warning: basinhopping: local minimization failure\n",
      "basinhopping step 13: f -52.3226 trial_f -52.3226 accepted 1  lowest_f -52.3226\n",
      "found new global minimum on step 13 with function value -52.3226\n",
      "basinhopping step 14: f -46.3811 trial_f -46.3811 accepted 1  lowest_f -52.3226\n",
      "warning: basinhopping: local minimization failure\n",
      "basinhopping step 15: f -51.418 trial_f -51.418 accepted 1  lowest_f -52.3226\n"
     ]
    }
   ],
   "source": [
    "LjN(15,15,15,6) ## success"
   ]
  },
  {
   "cell_type": "markdown",
   "metadata": {},
   "source": [
    "So far it looks like that as the temperature increases with the number of atoms and the step size decreases"
   ]
  },
  {
   "cell_type": "markdown",
   "metadata": {},
   "source": [
    "## <center>38 Atoms (2 minimums and 2 geometries) (Bonus)"
   ]
  },
  {
   "cell_type": "code",
   "execution_count": 48,
   "metadata": {
    "collapsed": false
   },
   "outputs": [
    {
     "name": "stdout",
     "output_type": "stream",
     "text": [
      "From cambridge, the true minimum energy of a 38 atom cluster is\n",
      " -173.928426512 \n",
      "\n",
      "The geometry of a 38 atom cluster is shown here\n"
     ]
    },
    {
     "data": {
      "image/png": "[encoded data removed]",
      "text/plain": [
       "<matplotlib.figure.Figure at 0x17d60456cf8>"
      ]
     },
     "metadata": {},
     "output_type": "display_data"
    }
   ],
   "source": [
    "pos = dist(38)\n",
    "V = Total_energy(pos)\n",
    "print('From cambridge, the true minimum energy of a 38 atom cluster is\\n',V,'\\n\\nThe geometry of a 38 atom cluster is shown here')\n",
    "\n",
    "# for plot\n",
    "X,Y,Z = positions(38)\n",
    "fig = plt.figure()\n",
    "ax = fig.gca(projection='3d')\n",
    "ax.plot_trisurf(X, Y, Z)\n",
    "ax.view_init(elev=20, azim=315)\n",
    "plt.show()\n"
   ]
  },
  {
   "cell_type": "markdown",
   "metadata": {},
   "source": [
    "For this minimum the geomotry of the cluster is a face-centred-cubic truncated octahedron.  This minimum is harder to compute as the other minimum has a much higher probability of being found."
   ]
  },
  {
   "cell_type": "code",
   "execution_count": 115,
   "metadata": {
    "collapsed": false
   },
   "outputs": [],
   "source": [
    "import os\n",
    "os.chdir(r'''C:\\Users\\david\\Desktop\\phys-300\\2017-cmp''')\n",
    "my_data = np.genfromtxt('lj_data.csv', delimiter=',')\n"
   ]
  },
  {
   "cell_type": "code",
   "execution_count": 133,
   "metadata": {
    "collapsed": false
   },
   "outputs": [
    {
     "data": {
      "image/png": "[encoded data removed]",
      "text/plain": [
       "<matplotlib.figure.Figure at 0x17d60ace320>"
      ]
     },
     "metadata": {},
     "output_type": "display_data"
    }
   ],
   "source": [
    "import matplotlib.pyplot as plt\n",
    "\n",
    "atom13 = my_data[:,0]\n",
    "atom13 = atom13[~np.isnan(atom13)]\n",
    "x1 = np.linspace(0,10,11)\n",
    "\n",
    "plt.plot(x1,atom13)\n",
    "plt.xlabel('step')\n",
    "plt.ylabel('potential')\n",
    "plt.title('13 atoms')\n",
    "plt.show()"
   ]
  },
  {
   "cell_type": "code",
   "execution_count": 134,
   "metadata": {
    "collapsed": false
   },
   "outputs": [
    {
     "data": {
      "image/png": "[encoded data removed]",
      "text/plain": [
       "<matplotlib.figure.Figure at 0x17d5eed7278>"
      ]
     },
     "metadata": {},
     "output_type": "display_data"
    }
   ],
   "source": [
    "atom15 = my_data[:,1]\n",
    "atom15 = atom15[~np.isnan(atom15)]\n",
    "x1 = np.linspace(0,15,16)\n",
    "\n",
    "plt.plot(x1,atom15)\n",
    "plt.xlabel('step')\n",
    "plt.ylabel('potential')\n",
    "plt.title('15 atoms')\n",
    "plt.show()"
   ]
  },
  {
   "cell_type": "code",
   "execution_count": 136,
   "metadata": {
    "collapsed": false
   },
   "outputs": [
    {
     "data": {
      "image/png": "[encoded data removed]",
      "text/plain": [
       "<matplotlib.figure.Figure at 0x17d60ccfa58>"
      ]
     },
     "metadata": {},
     "output_type": "display_data"
    }
   ],
   "source": [
    "atom19 = my_data[:,2]\n",
    "x1 = np.linspace(0,20,21)\n",
    "\n",
    "plt.plot(x1,atom19)\n",
    "plt.xlabel('step')\n",
    "plt.ylabel('potential')\n",
    "plt.title('19 atoms')\n",
    "plt.show()"
   ]
  },
  {
   "cell_type": "code",
   "execution_count": 51,
   "metadata": {
    "collapsed": false,
    "scrolled": true
   },
   "outputs": [
    {
     "name": "stdout",
     "output_type": "stream",
     "text": [
      "From cambridge, the other commonly found minimum energy of a 38 atom cluster is\n",
      " -173.252378416 \n",
      "\n",
      "The geometry of this 38 atom cluster is shown here\n"
     ]
    },
    {
     "data": {
      "image/png": "[encoded data removed]",
      "text/plain": [
       "<matplotlib.figure.Figure at 0x17d609828d0>"
      ]
     },
     "metadata": {},
     "output_type": "display_data"
    }
   ],
   "source": [
    "def pos_from_url(address='http://doye.chem.ox.ac.uk/jon/structures/LJ/points/38i'):\n",
    "    url_address = address\n",
    "    data_str = requests.get(url_address).text\n",
    "    return parse_url_text(data_str)  \n",
    "def positions(N_atoms=38):\n",
    "    pos = pos_from_url()\n",
    "    pos = np.reshape(pos,[N_atoms,3])\n",
    "    return pos[:,0],pos[:,1],pos[:,2]\n",
    "def distance(N_atoms=38):\n",
    "    pos = pos_from_url()\n",
    "    pos = np.reshape(pos,[N_atoms,3])\n",
    "    distance = cdist(pos,pos,'euclidean')\n",
    "    iu1 = np.triu_indices(N_atoms)\n",
    "    distance = distance[iu1]\n",
    "    index = np.argwhere(distance==0)\n",
    "    distance = np.delete(distance,index)\n",
    "    return distance\n",
    "\n",
    "pos = distance()\n",
    "V = Total_energy(pos)\n",
    "print('From cambridge, the other commonly found minimum energy of a 38 atom cluster is\\n',V,'\\n\\nThe geometry of this 38 atom cluster is shown here')\n",
    "\n",
    "# for plot\n",
    "X,Y,Z = positions()\n",
    "fig = plt.figure()\n",
    "ax = fig.gca(projection='3d')\n",
    "ax.plot_trisurf(X, Y, Z)\n",
    "ax.view_init(elev=20, azim=315)\n",
    "plt.show()"
   ]
  },
  {
   "cell_type": "markdown",
   "metadata": {},
   "source": [
    "<p>The geometry of this minimum is an isocahedral funnel, which is why the computated minimum will most likely fall within this \"basin\"<sup>[4]<sup><p>"
   ]
  },
  {
   "cell_type": "markdown",
   "metadata": {},
   "source": [
    "## <center>Forest diagram of 38 atoms<sup>[1]<sup>\n",
    "\n",
    "![Image of 38Forrest](http://doye.chem.ox.ac.uk/research/forest/treeLJ38.gif)"
   ]
  },
  {
   "cell_type": "code",
   "execution_count": 58,
   "metadata": {
    "collapsed": false,
    "scrolled": true
   },
   "outputs": [
    {
     "name": "stdout",
     "output_type": "stream",
     "text": [
      "warning: basinhopping: local minimization failure\n",
      "basinhopping step 0: f -162.364\n",
      "warning: basinhopping: local minimization failure\n",
      "basinhopping step 1: f -151.673 trial_f -151.673 accepted 1  lowest_f -162.364\n",
      "basinhopping step 2: f -151.673 trial_f -147.846 accepted 0  lowest_f -162.364\n",
      "basinhopping step 3: f -160.277 trial_f -160.277 accepted 1  lowest_f -162.364\n",
      "warning: basinhopping: local minimization failure\n",
      "basinhopping step 4: f -160.277 trial_f -127.441 accepted 0  lowest_f -162.364\n",
      "warning: basinhopping: local minimization failure\n",
      "basinhopping step 5: f -160.277 trial_f -52.9585 accepted 0  lowest_f -162.364\n",
      "warning: basinhopping: local minimization failure\n",
      "basinhopping step 6: f -164.461 trial_f -164.461 accepted 1  lowest_f -164.461\n",
      "found new global minimum on step 6 with function value -164.461\n",
      "basinhopping step 7: f -162.886 trial_f -162.886 accepted 1  lowest_f -164.461\n",
      "basinhopping step 8: f -160.583 trial_f -160.583 accepted 1  lowest_f -164.461\n",
      "warning: basinhopping: local minimization failure\n",
      "basinhopping step 9: f -162.014 trial_f -162.014 accepted 1  lowest_f -164.461\n",
      "warning: basinhopping: local minimization failure\n",
      "basinhopping step 10: f -160.518 trial_f -160.518 accepted 1  lowest_f -164.461\n",
      "warning: basinhopping: local minimization failure\n",
      "basinhopping step 11: f -160.518 trial_f -157.766 accepted 0  lowest_f -164.461\n",
      "warning: basinhopping: local minimization failure\n",
      "basinhopping step 12: f -160.518 trial_f -110.711 accepted 0  lowest_f -164.461\n",
      "warning: basinhopping: local minimization failure\n",
      "basinhopping step 13: f -148.943 trial_f -148.943 accepted 1  lowest_f -164.461\n",
      "basinhopping step 14: f -148.943 trial_f -141.458 accepted 0  lowest_f -164.461\n",
      "warning: basinhopping: local minimization failure\n",
      "basinhopping step 15: f -161.201 trial_f -161.201 accepted 1  lowest_f -164.461\n",
      "warning: basinhopping: local minimization failure\n",
      "basinhopping step 16: f -165.937 trial_f -165.937 accepted 1  lowest_f -165.937\n",
      "found new global minimum on step 16 with function value -165.937\n",
      "basinhopping step 17: f -165.937 trial_f -165.207 accepted 0  lowest_f -165.937\n",
      "warning: basinhopping: local minimization failure\n",
      "basinhopping step 18: f -165.937 trial_f -121.066 accepted 0  lowest_f -165.937\n",
      "basinhopping step 19: f -165.937 trial_f -157.169 accepted 0  lowest_f -165.937\n",
      "warning: basinhopping: local minimization failure\n",
      "basinhopping step 20: f -165.937 trial_f -158.42 accepted 0  lowest_f -165.937\n",
      "warning: basinhopping: local minimization failure\n",
      "basinhopping step 21: f -159.51 trial_f -159.51 accepted 1  lowest_f -165.937\n",
      "warning: basinhopping: local minimization failure\n",
      "basinhopping step 22: f -162.709 trial_f -162.709 accepted 1  lowest_f -165.937\n",
      "warning: basinhopping: local minimization failure\n",
      "basinhopping step 23: f -162.709 trial_f -29.7293 accepted 0  lowest_f -165.937\n",
      "basinhopping step 24: f -159.644 trial_f -159.644 accepted 1  lowest_f -165.937\n",
      "warning: basinhopping: local minimization failure\n",
      "basinhopping step 25: f -162.154 trial_f -162.154 accepted 1  lowest_f -165.937\n",
      "warning: basinhopping: local minimization failure\n",
      "basinhopping step 26: f -162.614 trial_f -162.614 accepted 1  lowest_f -165.937\n",
      "warning: basinhopping: local minimization failure\n",
      "basinhopping step 27: f -162.614 trial_f -155.592 accepted 0  lowest_f -165.937\n",
      "basinhopping step 28: f -161.368 trial_f -161.368 accepted 1  lowest_f -165.937\n",
      "warning: basinhopping: local minimization failure\n",
      "basinhopping step 29: f -161.368 trial_f -126.485 accepted 0  lowest_f -165.937\n",
      "basinhopping step 30: f -161.324 trial_f -161.324 accepted 1  lowest_f -165.937\n",
      "basinhopping step 31: f -161.324 trial_f -150.593 accepted 0  lowest_f -165.937\n",
      "warning: basinhopping: local minimization failure\n",
      "basinhopping step 32: f -161.266 trial_f -161.266 accepted 1  lowest_f -165.937\n",
      "basinhopping step 33: f -161.266 trial_f -158.013 accepted 0  lowest_f -165.937\n",
      "basinhopping step 34: f -168.971 trial_f -168.971 accepted 1  lowest_f -168.971\n",
      "found new global minimum on step 34 with function value -168.971\n",
      "warning: basinhopping: local minimization failure\n",
      "basinhopping step 35: f -168.971 trial_f -122.7 accepted 0  lowest_f -168.971\n",
      "basinhopping step 36: f -168.971 trial_f -161.753 accepted 0  lowest_f -168.971\n",
      "basinhopping step 37: f -168.971 trial_f -162.626 accepted 0  lowest_f -168.971\n",
      "basinhopping step 38: f -168.971 trial_f -158.95 accepted 0  lowest_f -168.971\n",
      "warning: basinhopping: local minimization failure\n",
      "basinhopping step 39: f -168.971 trial_f -158.111 accepted 0  lowest_f -168.971\n",
      "warning: basinhopping: local minimization failure\n",
      "basinhopping step 40: f -168.971 trial_f -147.433 accepted 0  lowest_f -168.971\n",
      "warning: basinhopping: local minimization failure\n",
      "basinhopping step 41: f -168.971 trial_f -150.391 accepted 0  lowest_f -168.971\n",
      "warning: basinhopping: local minimization failure\n",
      "basinhopping step 42: f -168.971 trial_f -148.658 accepted 0  lowest_f -168.971\n",
      "basinhopping step 43: f -168.971 trial_f -161.344 accepted 0  lowest_f -168.971\n",
      "basinhopping step 44: f -168.971 trial_f -162.906 accepted 0  lowest_f -168.971\n",
      "warning: basinhopping: local minimization failure\n",
      "basinhopping step 45: f -168.971 trial_f -153.813 accepted 0  lowest_f -168.971\n",
      "basinhopping step 46: f -168.971 trial_f -160.269 accepted 0  lowest_f -168.971\n",
      "warning: basinhopping: local minimization failure\n",
      "basinhopping step 47: f -168.971 trial_f -165.917 accepted 0  lowest_f -168.971\n",
      "warning: basinhopping: local minimization failure\n",
      "basinhopping step 48: f -168.971 trial_f -112.527 accepted 0  lowest_f -168.971\n",
      "basinhopping step 49: f -168.971 trial_f -154.324 accepted 0  lowest_f -168.971\n",
      "adaptive stepsize: acceptance rate 0.380000 target 0.500000 new stepsize 9 old stepsize 10\n",
      "basinhopping step 50: f -168.971 trial_f -161.036 accepted 0  lowest_f -168.971\n",
      "warning: basinhopping: local minimization failure\n",
      "basinhopping step 51: f -168.971 trial_f -116.996 accepted 0  lowest_f -168.971\n",
      "basinhopping step 52: f -168.971 trial_f -151.44 accepted 0  lowest_f -168.971\n",
      "warning: basinhopping: local minimization failure\n",
      "basinhopping step 53: f -168.971 trial_f -139.256 accepted 0  lowest_f -168.971\n",
      "basinhopping step 54: f -163.692 trial_f -163.692 accepted 1  lowest_f -168.971\n",
      "basinhopping step 55: f -163.692 trial_f -160.257 accepted 0  lowest_f -168.971\n",
      "warning: basinhopping: local minimization failure\n",
      "basinhopping step 56: f -158.625 trial_f -158.625 accepted 1  lowest_f -168.971\n",
      "warning: basinhopping: local minimization failure\n",
      "basinhopping step 57: f -157.098 trial_f -157.098 accepted 1  lowest_f -168.971\n",
      "warning: basinhopping: local minimization failure\n",
      "basinhopping step 58: f -163.99 trial_f -163.99 accepted 1  lowest_f -168.971\n",
      "basinhopping step 59: f -163.99 trial_f -163.414 accepted 0  lowest_f -168.971\n",
      "basinhopping step 60: f -168.893 trial_f -168.893 accepted 1  lowest_f -168.971\n",
      "warning: basinhopping: local minimization failure\n",
      "basinhopping step 61: f -168.893 trial_f -156.403 accepted 0  lowest_f -168.971\n",
      "warning: basinhopping: local minimization failure\n",
      "basinhopping step 62: f -162.824 trial_f -162.824 accepted 1  lowest_f -168.971\n",
      "warning: basinhopping: local minimization failure\n",
      "basinhopping step 63: f -161.534 trial_f -161.534 accepted 1  lowest_f -168.971\n",
      "basinhopping step 64: f -161.534 trial_f -151.443 accepted 0  lowest_f -168.971\n",
      "warning: basinhopping: local minimization failure\n",
      "basinhopping step 65: f -160.382 trial_f -160.382 accepted 1  lowest_f -168.971\n",
      "basinhopping step 66: f -161.148 trial_f -161.148 accepted 1  lowest_f -168.971\n",
      "warning: basinhopping: local minimization failure\n",
      "basinhopping step 67: f -156.733 trial_f -156.733 accepted 1  lowest_f -168.971\n",
      "warning: basinhopping: local minimization failure\n",
      "basinhopping step 68: f -156.733 trial_f -61.8951 accepted 0  lowest_f -168.971\n",
      "basinhopping step 69: f -162.39 trial_f -162.39 accepted 1  lowest_f -168.971\n",
      "basinhopping step 70: f -164.928 trial_f -164.928 accepted 1  lowest_f -168.971\n",
      "warning: basinhopping: local minimization failure\n",
      "basinhopping step 71: f -161.041 trial_f -161.041 accepted 1  lowest_f -168.971\n",
      "warning: basinhopping: local minimization failure\n",
      "basinhopping step 72: f -161.772 trial_f -161.772 accepted 1  lowest_f -168.971\n",
      "warning: basinhopping: local minimization failure\n",
      "basinhopping step 73: f -162.463 trial_f -162.463 accepted 1  lowest_f -168.971\n",
      "warning: basinhopping: local minimization failure\n",
      "basinhopping step 74: f -164.309 trial_f -164.309 accepted 1  lowest_f -168.971\n",
      "basinhopping step 75: f -164.309 trial_f -160.276 accepted 0  lowest_f -168.971\n",
      "warning: basinhopping: local minimization failure\n",
      "basinhopping step 76: f -164.309 trial_f -149.251 accepted 0  lowest_f -168.971\n",
      "basinhopping step 77: f -166.198 trial_f -166.198 accepted 1  lowest_f -168.971\n",
      "basinhopping step 78: f -166.198 trial_f -152.291 accepted 0  lowest_f -168.971\n",
      "warning: basinhopping: local minimization failure\n",
      "basinhopping step 79: f -166.198 trial_f -160.716 accepted 0  lowest_f -168.971\n",
      "warning: basinhopping: local minimization failure\n",
      "basinhopping step 80: f -163.43 trial_f -163.43 accepted 1  lowest_f -168.971\n",
      "warning: basinhopping: local minimization failure\n",
      "basinhopping step 81: f -159.369 trial_f -159.369 accepted 1  lowest_f -168.971\n",
      "warning: basinhopping: local minimization failure\n",
      "basinhopping step 82: f -164.004 trial_f -164.004 accepted 1  lowest_f -168.971\n",
      "warning: basinhopping: local minimization failure\n",
      "basinhopping step 83: f -164.004 trial_f -126.93 accepted 0  lowest_f -168.971\n",
      "warning: basinhopping: local minimization failure\n",
      "basinhopping step 84: f -164.004 trial_f -152.418 accepted 0  lowest_f -168.971\n",
      "warning: basinhopping: local minimization failure\n",
      "basinhopping step 85: f -164.004 trial_f -158.914 accepted 0  lowest_f -168.971\n",
      "warning: basinhopping: local minimization failure\n",
      "basinhopping step 86: f -164.004 trial_f -157.096 accepted 0  lowest_f -168.971\n",
      "warning: basinhopping: local minimization failure\n",
      "basinhopping step 87: f -159.65 trial_f -159.65 accepted 1  lowest_f -168.971\n",
      "warning: basinhopping: local minimization failure\n",
      "basinhopping step 88: f -154.638 trial_f -154.638 accepted 1  lowest_f -168.971\n",
      "basinhopping step 89: f -162.339 trial_f -162.339 accepted 1  lowest_f -168.971\n",
      "basinhopping step 90: f -162.339 trial_f -154.428 accepted 0  lowest_f -168.971\n",
      "warning: basinhopping: local minimization failure\n",
      "basinhopping step 91: f -162.339 trial_f -152.303 accepted 0  lowest_f -168.971\n",
      "warning: basinhopping: local minimization failure\n",
      "basinhopping step 92: f -162.339 trial_f -93.7309 accepted 0  lowest_f -168.971\n",
      "warning: basinhopping: local minimization failure\n",
      "basinhopping step 93: f -162.339 trial_f -154.886 accepted 0  lowest_f -168.971\n",
      "warning: basinhopping: local minimization failure\n",
      "basinhopping step 94: f -160.31 trial_f -160.31 accepted 1  lowest_f -168.971\n",
      "warning: basinhopping: local minimization failure\n",
      "basinhopping step 95: f -160.31 trial_f -147.78 accepted 0  lowest_f -168.971\n",
      "warning: basinhopping: local minimization failure\n",
      "basinhopping step 96: f -163.807 trial_f -163.807 accepted 1  lowest_f -168.971\n",
      "warning: basinhopping: local minimization failure\n",
      "basinhopping step 97: f -165.204 trial_f -165.204 accepted 1  lowest_f -168.971\n",
      "basinhopping step 98: f -165.204 trial_f -153.659 accepted 0  lowest_f -168.971\n",
      "warning: basinhopping: local minimization failure\n",
      "basinhopping step 99: f -165.204 trial_f -160.007 accepted 0  lowest_f -168.971\n",
      "adaptive stepsize: acceptance rate 0.450000 target 0.500000 new stepsize 8.1 old stepsize 9\n",
      "basinhopping step 100: f -164.989 trial_f -164.989 accepted 1  lowest_f -168.971\n",
      "basinhopping step 101: f -164.989 trial_f -161.104 accepted 0  lowest_f -168.971\n",
      "warning: basinhopping: local minimization failure\n",
      "basinhopping step 102: f -163.596 trial_f -163.596 accepted 1  lowest_f -168.971\n",
      "basinhopping step 103: f -163.596 trial_f -157.795 accepted 0  lowest_f -168.971\n",
      "basinhopping step 104: f -164.484 trial_f -164.484 accepted 1  lowest_f -168.971\n",
      "warning: basinhopping: local minimization failure\n",
      "basinhopping step 105: f -164.484 trial_f -162.654 accepted 0  lowest_f -168.971\n",
      "basinhopping step 106: f -164.484 trial_f -161.564 accepted 0  lowest_f -168.971\n",
      "warning: basinhopping: local minimization failure\n",
      "basinhopping step 107: f -164.097 trial_f -164.097 accepted 1  lowest_f -168.971\n",
      "basinhopping step 108: f -164.097 trial_f -155.371 accepted 0  lowest_f -168.971\n",
      "basinhopping step 109: f -167.822 trial_f -167.822 accepted 1  lowest_f -168.971\n",
      "warning: basinhopping: local minimization failure\n",
      "basinhopping step 110: f -167.822 trial_f -154.428 accepted 0  lowest_f -168.971\n",
      "warning: basinhopping: local minimization failure\n",
      "basinhopping step 111: f -167.916 trial_f -167.916 accepted 1  lowest_f -168.971\n",
      "basinhopping step 112: f -167.916 trial_f -155.371 accepted 0  lowest_f -168.971\n",
      "warning: basinhopping: local minimization failure\n",
      "basinhopping step 113: f -164.127 trial_f -164.127 accepted 1  lowest_f -168.971\n",
      "warning: basinhopping: local minimization failure\n",
      "basinhopping step 114: f -167.621 trial_f -167.621 accepted 1  lowest_f -168.971\n",
      "warning: basinhopping: local minimization failure\n",
      "basinhopping step 115: f -167.621 trial_f -154.668 accepted 0  lowest_f -168.971\n",
      "basinhopping step 116: f -167.621 trial_f -165.274 accepted 0  lowest_f -168.971\n",
      "warning: basinhopping: local minimization failure\n",
      "basinhopping step 117: f -167.621 trial_f -163.915 accepted 0  lowest_f -168.971\n",
      "warning: basinhopping: local minimization failure\n",
      "basinhopping step 118: f -167.621 trial_f -166.223 accepted 0  lowest_f -168.971\n",
      "basinhopping step 119: f -167.621 trial_f -146.244 accepted 0  lowest_f -168.971\n",
      "warning: basinhopping: local minimization failure\n",
      "basinhopping step 120: f -167.621 trial_f -150.009 accepted 0  lowest_f -168.971\n"
     ]
    }
   ],
   "source": [
    "LjN(38,120,5,10)"
   ]
  },
  {
   "cell_type": "markdown",
   "metadata": {},
   "source": [
    "The experiments show that as the number of atoms increases in the cluster, the temperature parameter should increase rapidly, while the step size decreases at a slower rate.  Finding the minima of the clusters becomes much more difficult as the numbers of atoms grows, meaning that more iterations are needed.  Certain values have multiple minima that are similar in value but drastically different in geometry, which will need more of a \"shotgun\" approach with a high T and high step with many iterations."
   ]
  },
  {
   "cell_type": "markdown",
   "metadata": {},
   "source": [
    "## <center>Speed Test"
   ]
  },
  {
   "cell_type": "code",
   "execution_count": 139,
   "metadata": {
    "collapsed": false
   },
   "outputs": [
    {
     "name": "stdout",
     "output_type": "stream",
     "text": [
      "1 loop, best of 3: 16.8 s per loop\n"
     ]
    }
   ],
   "source": [
    "%timeit LjN(13,10,3,10)"
   ]
  },
  {
   "cell_type": "markdown",
   "metadata": {},
   "source": [
    "## <center>References\n",
    " \n",
    "Doye, J. P., Miller, M. A., & Wales, D. J. (n.d.). Lennard-Jones Clusters. \n",
    "http://doye.chem.ox.ac.uk/research/forest/LJ.html<sup>[1]<sup>\n",
    "\n",
    "Scipy.optimize.basinhopping. (n.d.). Retrieved November 10, 2017, from https://docs.scipy.org/doc/scipy-0.18.1/reference/generated/scipy.optimize.basinhopping.html<sup>[2]<sup>\n",
    "\n",
    "Wales, D. J., & Doye, J. P. (1997). Global Optimization by Basin-Hopping and the Lowest Energy Structures of Lennard-Jones \n",
    "Clusters Containing up to 110 Atoms. The Journal of Physical Chemistry A, 101(28), 5111-5116.<sup>[3]<sup>\n",
    "\n",
    "Wales Group. (n.d.). Table of Lennard-Jones Clusters Minimum Values. http://doye.chem.ox.ac.uk/jon/structures/LJ/tables.150.html<sup>[4]<sup>\n",
    "\n",
    "Lennard-Jones, J. E. (1931). \"Cohesion\". Proceedings of the Physical Society<sup>[5]<sup>"
   ]
  },
  {
   "cell_type": "code",
   "execution_count": null,
   "metadata": {
    "collapsed": true
   },
   "outputs": [],
   "source": []
  }
 ],
 "metadata": {
  "kernelspec": {
   "display_name": "Python 3",
   "language": "python",
   "name": "python3"
  },
  "language_info": {
   "codemirror_mode": {
    "name": "ipython",
    "version": 3
   },
   "file_extension": ".py",
   "mimetype": "text/x-python",
   "name": "python",
   "nbconvert_exporter": "python",
   "pygments_lexer": "ipython3",
   "version": "3.5.2"
  }
 },
 "nbformat": 4,
 "nbformat_minor": 2
}
