{
 "cells": [
  {
   "cell_type": "markdown",
   "metadata": {},
   "source": [
    "## Optimization of LJ clusters using basin hopping\n",
    "\n",
    "    The basin hopping algorithm transforms the potential energy space into a collection of interconnecting staircases, (Wales, Doye, 1998).  This transformation of the energy space, changes the geometry of the space, with the new geometry being characterized by the local minima.  This transformation however does not change the local minima themselves. \n",
    "    \n",
    "    The algorithm is iterative using the following conditions:  random selection of the coordinates, minimization and acceptance of new mimima values based on the parameter T.  The acceptance test uses a particular monte carlo algorithm called the Metropolis criterion.  (https://docs.scipy.org/doc/scipy-0.18.1/reference/generated/scipy.optimize.basinhopping.html)"
   ]
  },
  {
   "cell_type": "code",
   "execution_count": 64,
   "metadata": {
    "collapsed": false,
    "deletable": true,
    "editable": true,
    "scrolled": false
   },
   "outputs": [],
   "source": [
    "def init_pos(N_atom, L = 5):\n",
    "    '''Returns an array containing the cartesian coordinates of N atoms within a bounded cube of length L\n",
    "       \n",
    "       Also returns the average distance computed by the body diagonal of the cube divided by the number of atoms'''\n",
    "    \n",
    "    import numpy as np\n",
    "    \n",
    "    return L*np.random.random(N_atom*3)\n",
    "            \n",
    "\n",
    "    \n",
    "\n",
    "\n",
    "def LjN_min(N_atoms,max_iter,temp,step):\n",
    "    '''Uses bassin hopping in conjunction with vectorized position and energy functions\n",
    "    to minimize the energy of an Lj system'''\n",
    "    def Total_Energy_Lj(r):\n",
    "        '''To be used in conjucton with init_pos in order to compute Lj potentials\n",
    "           Input a random array of cartesian coordinates for N_atoms\n",
    "           Using matrices the distances between the atoms are calculated\n",
    "           Using distances the Lj potential for each atom is calculated, then summed for the total energy\n",
    "           Returns total energy'''\n",
    "    \n",
    "        import numpy as np\n",
    "        from scipy.spatial.distance import cdist\n",
    "        \n",
    "        pos = np.reshape(r,[N_atoms,3])\n",
    "        distance = cdist(pos,pos,'euclidean')\n",
    "        iu1 = np.triu_indices(N_atoms)\n",
    "        distance = distance[iu1]\n",
    "        index = np.argwhere(distance==0)\n",
    "        distance = np.delete(distance,index)\n",
    "        r6 = np.power(distance,6)\n",
    "        r12 = np.multiply(r6,r6)\n",
    "        E = 4*(1/r12 - 1/r6)\n",
    "        Energy = np.sum(E)\n",
    "        return Energy\n",
    "    from scipy.optimize import basinhopping\n",
    "    pos = init_pos(N_atoms)\n",
    "    res = basinhopping(Total_Energy_Lj, pos, niter=max_iter, T=temp, stepsize=step, disp=False)\n",
    "    return res.fun"
   ]
  },
  {
   "cell_type": "code",
   "execution_count": 4,
   "metadata": {
    "collapsed": false,
    "scrolled": true
   },
   "outputs": [
    {
     "name": "stdout",
     "output_type": "stream",
     "text": [
      "warning: basinhopping: local minimization failure\n",
      "basinhopping step 0: f -27.4798\n",
      "basinhopping step 1: f -27.4798 trial_f -19.1693 accepted 0  lowest_f -27.4798\n",
      "basinhopping step 2: f -32.766 trial_f -32.766 accepted 1  lowest_f -32.766\n",
      "found new global minimum on step 2 with function value -32.766\n",
      "warning: basinhopping: local minimization failure\n",
      "basinhopping step 3: f -31.9147 trial_f -31.9147 accepted 1  lowest_f -32.766\n",
      "warning: basinhopping: local minimization failure\n",
      "basinhopping step 4: f -30.0498 trial_f -30.0498 accepted 1  lowest_f -32.766\n",
      "warning: basinhopping: local minimization failure\n",
      "basinhopping step 5: f -30.0498 trial_f -23.1708 accepted 0  lowest_f -32.766\n",
      "warning: basinhopping: local minimization failure\n",
      "basinhopping step 6: f -27.4474 trial_f -27.4474 accepted 1  lowest_f -32.766\n",
      "warning: basinhopping: local minimization failure\n",
      "basinhopping step 7: f -26.5955 trial_f -26.5955 accepted 1  lowest_f -32.766\n",
      "basinhopping step 8: f -26.4839 trial_f -26.4839 accepted 1  lowest_f -32.766\n",
      "warning: basinhopping: local minimization failure\n",
      "basinhopping step 9: f -27.4468 trial_f -27.4468 accepted 1  lowest_f -32.766\n",
      "warning: basinhopping: local minimization failure\n",
      "basinhopping step 10: f -27.4797 trial_f -27.4797 accepted 1  lowest_f -32.766\n",
      "warning: basinhopping: local minimization failure\n",
      "basinhopping step 11: f -27.5223 trial_f -27.5223 accepted 1  lowest_f -32.766\n",
      "basinhopping step 12: f -27.5223 trial_f -19.8215 accepted 0  lowest_f -32.766\n",
      "warning: basinhopping: local minimization failure\n",
      "basinhopping step 13: f -23.1052 trial_f -23.1052 accepted 1  lowest_f -32.766\n",
      "basinhopping step 14: f -22.0813 trial_f -22.0813 accepted 1  lowest_f -32.766\n",
      "basinhopping step 15: f -12.3029 trial_f -12.3029 accepted 1  lowest_f -32.766\n"
     ]
    },
    {
     "data": {
      "text/plain": [
       "-32.765970089978104"
      ]
     },
     "execution_count": 4,
     "metadata": {},
     "output_type": "execute_result"
    }
   ],
   "source": [
    "# 11 atoms  Large T, small step \n",
    "LjN_min(11,15,10,1)  \n",
    "\n",
    "#success  # will graph"
   ]
  },
  {
   "cell_type": "code",
   "execution_count": 5,
   "metadata": {
    "collapsed": false
   },
   "outputs": [
    {
     "name": "stdout",
     "output_type": "stream",
     "text": [
      "warning: basinhopping: local minimization failure\n",
      "basinhopping step 0: f -30.6055\n",
      "warning: basinhopping: local minimization failure\n",
      "basinhopping step 1: f -30.9202 trial_f -30.9202 accepted 1  lowest_f -30.9202\n",
      "found new global minimum on step 1 with function value -30.9202\n",
      "basinhopping step 2: f -30.9202 trial_f -21.5932 accepted 0  lowest_f -30.9202\n",
      "warning: basinhopping: local minimization failure\n",
      "basinhopping step 3: f -30.8564 trial_f -30.8564 accepted 1  lowest_f -30.9202\n",
      "basinhopping step 4: f -26.4184 trial_f -26.4184 accepted 1  lowest_f -30.9202\n",
      "basinhopping step 5: f -26.4184 trial_f -12 accepted 0  lowest_f -30.9202\n",
      "basinhopping step 6: f -26.4184 trial_f -15.1039 accepted 0  lowest_f -30.9202\n",
      "warning: basinhopping: local minimization failure\n",
      "basinhopping step 7: f -27.4797 trial_f -27.4797 accepted 1  lowest_f -30.9202\n",
      "warning: basinhopping: local minimization failure\n",
      "basinhopping step 8: f -27.4468 trial_f -27.4468 accepted 1  lowest_f -30.9202\n",
      "basinhopping step 9: f -27.4468 trial_f -26.4429 accepted 0  lowest_f -30.9202\n",
      "warning: basinhopping: local minimization failure\n",
      "basinhopping step 10: f -27.4468 trial_f -19.1693 accepted 0  lowest_f -30.9202\n",
      "basinhopping step 11: f -27.4468 trial_f -26.3287 accepted 0  lowest_f -30.9202\n",
      "basinhopping step 12: f -27.4468 trial_f -27.4468 accepted 1  lowest_f -30.9202\n",
      "basinhopping step 13: f -29.6504 trial_f -29.6504 accepted 1  lowest_f -30.9202\n",
      "warning: basinhopping: local minimization failure\n",
      "basinhopping step 14: f -30.5381 trial_f -30.5381 accepted 1  lowest_f -30.9202\n",
      "basinhopping step 15: f -29.8424 trial_f -29.8424 accepted 1  lowest_f -30.9202\n"
     ]
    },
    {
     "data": {
      "text/plain": [
       "-30.92018121838595"
      ]
     },
     "execution_count": 5,
     "metadata": {},
     "output_type": "execute_result"
    }
   ],
   "source": [
    "# 11 atoms small T, large step\n",
    "\n",
    "LjN_min(11,15,3,10)\n",
    "\n",
    "#fail"
   ]
  },
  {
   "cell_type": "code",
   "execution_count": 8,
   "metadata": {
    "collapsed": false
   },
   "outputs": [
    {
     "name": "stdout",
     "output_type": "stream",
     "text": [
      "warning: basinhopping: local minimization failure\n",
      "basinhopping step 0: f -30.8219\n",
      "basinhopping step 1: f -31.4269 trial_f -31.4269 accepted 1  lowest_f -31.4269\n",
      "found new global minimum on step 1 with function value -31.4269\n",
      "basinhopping step 2: f -31.4269 trial_f -27.5223 accepted 0  lowest_f -31.4269\n",
      "basinhopping step 3: f -31.7752 trial_f -31.7752 accepted 1  lowest_f -31.7752\n",
      "found new global minimum on step 3 with function value -31.7752\n",
      "warning: basinhopping: local minimization failure\n",
      "basinhopping step 4: f -31.9147 trial_f -31.9147 accepted 1  lowest_f -31.9147\n",
      "found new global minimum on step 4 with function value -31.9147\n",
      "warning: basinhopping: local minimization failure\n",
      "basinhopping step 5: f -31.9147 trial_f -26.4184 accepted 0  lowest_f -31.9147\n",
      "basinhopping step 6: f -29.8424 trial_f -29.8424 accepted 1  lowest_f -31.9147\n",
      "warning: basinhopping: local minimization failure\n",
      "basinhopping step 7: f -29.6841 trial_f -29.6841 accepted 1  lowest_f -31.9147\n",
      "warning: basinhopping: local minimization failure\n",
      "basinhopping step 8: f -30.9539 trial_f -30.9539 accepted 1  lowest_f -31.9147\n",
      "warning: basinhopping: local minimization failure\n",
      "basinhopping step 9: f -30.8515 trial_f -30.8515 accepted 1  lowest_f -31.9147\n",
      "warning: basinhopping: local minimization failure\n",
      "basinhopping step 10: f -31.9152 trial_f -31.9152 accepted 1  lowest_f -31.9152\n",
      "found new global minimum on step 10 with function value -31.9152\n",
      "warning: basinhopping: local minimization failure\n",
      "basinhopping step 11: f -30.5066 trial_f -30.5066 accepted 1  lowest_f -31.9152\n",
      "warning: basinhopping: local minimization failure\n",
      "basinhopping step 12: f -30.8219 trial_f -30.8219 accepted 1  lowest_f -31.9152\n",
      "warning: basinhopping: local minimization failure\n",
      "basinhopping step 13: f -30.9512 trial_f -30.9512 accepted 1  lowest_f -31.9152\n",
      "warning: basinhopping: local minimization failure\n",
      "basinhopping step 14: f -31.9147 trial_f -31.9147 accepted 1  lowest_f -31.9152\n",
      "warning: basinhopping: local minimization failure\n",
      "basinhopping step 15: f -31.9147 trial_f -28.4225 accepted 0  lowest_f -31.9152\n"
     ]
    },
    {
     "data": {
      "text/plain": [
       "-31.915183836133835"
      ]
     },
     "execution_count": 8,
     "metadata": {},
     "output_type": "execute_result"
    }
   ],
   "source": [
    "## 11 atoms small T, small step\n",
    "\n",
    "LjN_min(11,15,2,2)\n",
    "\n",
    "#failed"
   ]
  },
  {
   "cell_type": "code",
   "execution_count": 9,
   "metadata": {
    "collapsed": false
   },
   "outputs": [
    {
     "name": "stdout",
     "output_type": "stream",
     "text": [
      "warning: basinhopping: local minimization failure\n",
      "basinhopping step 0: f -32.766\n",
      "warning: basinhopping: local minimization failure\n",
      "basinhopping step 1: f -32.766 trial_f -30.7537 accepted 0  lowest_f -32.766\n",
      "basinhopping step 2: f -32.766 trial_f -26.4184 accepted 0  lowest_f -32.766\n",
      "basinhopping step 3: f -30.6838 trial_f -30.6838 accepted 1  lowest_f -32.766\n",
      "warning: basinhopping: local minimization failure\n",
      "basinhopping step 4: f -30.5405 trial_f -30.5405 accepted 1  lowest_f -32.766\n",
      "warning: basinhopping: local minimization failure\n",
      "basinhopping step 5: f -30.9539 trial_f -30.9539 accepted 1  lowest_f -32.766\n",
      "warning: basinhopping: local minimization failure\n",
      "basinhopping step 6: f -31.0005 trial_f -31.0005 accepted 1  lowest_f -32.766\n",
      "basinhopping step 7: f -31.0005 trial_f -14.3029 accepted 0  lowest_f -32.766\n",
      "warning: basinhopping: local minimization failure\n",
      "basinhopping step 8: f -31.0005 trial_f -27.5452 accepted 0  lowest_f -32.766\n",
      "basinhopping step 9: f -31.0005 trial_f -10 accepted 0  lowest_f -32.766\n",
      "warning: basinhopping: local minimization failure\n",
      "basinhopping step 10: f -31.0005 trial_f -0.00783336 accepted 0  lowest_f -32.766\n",
      "basinhopping step 11: f -29.7911 trial_f -29.7911 accepted 1  lowest_f -32.766\n",
      "warning: basinhopping: local minimization failure\n",
      "basinhopping step 12: f -25.7444 trial_f -25.7444 accepted 1  lowest_f -32.766\n",
      "warning: basinhopping: local minimization failure\n",
      "basinhopping step 13: f -25.7444 trial_f -20.464 accepted 0  lowest_f -32.766\n",
      "basinhopping step 14: f -27.5223 trial_f -27.5223 accepted 1  lowest_f -32.766\n",
      "warning: basinhopping: local minimization failure\n",
      "basinhopping step 15: f -29.7364 trial_f -29.7364 accepted 1  lowest_f -32.766\n"
     ]
    },
    {
     "data": {
      "text/plain": [
       "-32.76597008996405"
      ]
     },
     "execution_count": 9,
     "metadata": {},
     "output_type": "execute_result"
    }
   ],
   "source": [
    "# 11 atoms large T, large step\n",
    "\n",
    "LjN_min(11,15,10,10)\n",
    "\n",
    "#success"
   ]
  },
  {
   "cell_type": "code",
   "execution_count": 12,
   "metadata": {
    "collapsed": false
   },
   "outputs": [
    {
     "name": "stdout",
     "output_type": "stream",
     "text": [
      "basinhopping step 0: f -35.5425\n",
      "warning: basinhopping: local minimization failure\n",
      "basinhopping step 1: f -33.9533 trial_f -33.9533 accepted 1  lowest_f -35.5425\n",
      "warning: basinhopping: local minimization failure\n",
      "basinhopping step 2: f -36.087 trial_f -36.087 accepted 1  lowest_f -36.087\n",
      "found new global minimum on step 2 with function value -36.087\n",
      "warning: basinhopping: local minimization failure\n",
      "basinhopping step 3: f -35.3249 trial_f -35.3249 accepted 1  lowest_f -36.087\n",
      "basinhopping step 4: f -37.9676 trial_f -37.9676 accepted 1  lowest_f -37.9676\n",
      "found new global minimum on step 4 with function value -37.9676\n",
      "warning: basinhopping: local minimization failure\n",
      "basinhopping step 5: f -35.3123 trial_f -35.3123 accepted 1  lowest_f -37.9676\n",
      "warning: basinhopping: local minimization failure\n",
      "basinhopping step 6: f -36.2532 trial_f -36.2532 accepted 1  lowest_f -37.9676\n",
      "basinhopping step 7: f -34.3004 trial_f -34.3004 accepted 1  lowest_f -37.9676\n",
      "warning: basinhopping: local minimization failure\n",
      "basinhopping step 8: f -33.8278 trial_f -33.8278 accepted 1  lowest_f -37.9676\n",
      "warning: basinhopping: local minimization failure\n",
      "basinhopping step 9: f -33.5051 trial_f -33.5051 accepted 1  lowest_f -37.9676\n",
      "warning: basinhopping: local minimization failure\n",
      "basinhopping step 10: f -36.2332 trial_f -36.2332 accepted 1  lowest_f -37.9676\n",
      "basinhopping step 11: f -36.2332 trial_f -34.0931 accepted 0  lowest_f -37.9676\n",
      "basinhopping step 12: f -36.2332 trial_f -34.2526 accepted 0  lowest_f -37.9676\n",
      "warning: basinhopping: local minimization failure\n",
      "basinhopping step 13: f -36.2332 trial_f -33.2565 accepted 0  lowest_f -37.9676\n",
      "warning: basinhopping: local minimization failure\n",
      "basinhopping step 14: f -34.1888 trial_f -34.1888 accepted 1  lowest_f -37.9676\n",
      "warning: basinhopping: local minimization failure\n",
      "basinhopping step 15: f -35.3526 trial_f -35.3526 accepted 1  lowest_f -37.9676\n"
     ]
    },
    {
     "data": {
      "text/plain": [
       "-37.96759956235963"
      ]
     },
     "execution_count": 12,
     "metadata": {},
     "output_type": "execute_result"
    }
   ],
   "source": [
    "# 12 atoms Large T small step\n",
    "\n",
    "LjN_min(12,15,10,3)\n",
    "\n",
    "#success  will graph"
   ]
  },
  {
   "cell_type": "code",
   "execution_count": 13,
   "metadata": {
    "collapsed": false
   },
   "outputs": [
    {
     "name": "stdout",
     "output_type": "stream",
     "text": [
      "warning: basinhopping: local minimization failure\n",
      "basinhopping step 0: f -33.0171\n",
      "basinhopping step 1: f -36.2332 trial_f -36.2332 accepted 1  lowest_f -36.2332\n",
      "found new global minimum on step 1 with function value -36.2332\n",
      "basinhopping step 2: f -34.2092 trial_f -34.2092 accepted 1  lowest_f -36.2332\n",
      "basinhopping step 3: f -34.2092 trial_f -21.5932 accepted 0  lowest_f -36.2332\n",
      "basinhopping step 4: f -34.2092 trial_f -25.1134 accepted 0  lowest_f -36.2332\n",
      "basinhopping step 5: f -34.2092 trial_f -29.8617 accepted 0  lowest_f -36.2332\n",
      "warning: basinhopping: local minimization failure\n",
      "basinhopping step 6: f -34.2092 trial_f -32.042 accepted 0  lowest_f -36.2332\n",
      "warning: basinhopping: local minimization failure\n",
      "basinhopping step 7: f -36.243 trial_f -36.243 accepted 1  lowest_f -36.243\n",
      "found new global minimum on step 7 with function value -36.243\n",
      "basinhopping step 8: f -36.1516 trial_f -36.1516 accepted 1  lowest_f -36.243\n",
      "basinhopping step 9: f -36.1516 trial_f -24.7782 accepted 0  lowest_f -36.243\n",
      "warning: basinhopping: local minimization failure\n",
      "basinhopping step 10: f -33.0267 trial_f -33.0267 accepted 1  lowest_f -36.243\n",
      "basinhopping step 11: f -36.243 trial_f -36.243 accepted 1  lowest_f -36.243\n",
      "found new global minimum on step 11 with function value -36.243\n",
      "warning: basinhopping: local minimization failure\n",
      "basinhopping step 12: f -36.243 trial_f -8.32559 accepted 0  lowest_f -36.243\n",
      "basinhopping step 13: f -36.243 trial_f -12.0001 accepted 0  lowest_f -36.243\n",
      "warning: basinhopping: local minimization failure\n",
      "basinhopping step 14: f -35.2352 trial_f -35.2352 accepted 1  lowest_f -36.243\n",
      "warning: basinhopping: local minimization failure\n",
      "basinhopping step 15: f -35.2352 trial_f -18.5933 accepted 0  lowest_f -36.243\n"
     ]
    },
    {
     "data": {
      "text/plain": [
       "-36.243025903282295"
      ]
     },
     "execution_count": 13,
     "metadata": {},
     "output_type": "execute_result"
    }
   ],
   "source": [
    "# 12 atoms, large T, large step\n",
    "\n",
    "LjN_min(12,15,10,10)\n",
    "\n",
    "#fail"
   ]
  },
  {
   "cell_type": "markdown",
   "metadata": {},
   "source": [
    "At this point it seems that Large T and small step will lead to global minimum"
   ]
  },
  {
   "cell_type": "code",
   "execution_count": 15,
   "metadata": {
    "collapsed": false
   },
   "outputs": [
    {
     "name": "stdout",
     "output_type": "stream",
     "text": [
      "warning: basinhopping: local minimization failure\n",
      "basinhopping step 0: f -52.8911\n",
      "warning: basinhopping: local minimization failure\n",
      "basinhopping step 1: f -49.5161 trial_f -49.5161 accepted 1  lowest_f -52.8911\n",
      "warning: basinhopping: local minimization failure\n",
      "basinhopping step 2: f -51.1486 trial_f -51.1486 accepted 1  lowest_f -52.8911\n",
      "warning: basinhopping: local minimization failure\n",
      "basinhopping step 3: f -51.9713 trial_f -51.9713 accepted 1  lowest_f -52.8911\n",
      "warning: basinhopping: local minimization failure\n",
      "basinhopping step 4: f -52.9315 trial_f -52.9315 accepted 1  lowest_f -52.9315\n",
      "found new global minimum on step 4 with function value -52.9315\n",
      "warning: basinhopping: local minimization failure\n",
      "basinhopping step 5: f -52.8134 trial_f -52.8134 accepted 1  lowest_f -52.9315\n",
      "warning: basinhopping: local minimization failure\n",
      "basinhopping step 6: f -52.8788 trial_f -52.8788 accepted 1  lowest_f -52.9315\n",
      "warning: basinhopping: local minimization failure\n",
      "basinhopping step 7: f -49.6822 trial_f -49.6822 accepted 1  lowest_f -52.9315\n",
      "warning: basinhopping: local minimization failure\n",
      "basinhopping step 8: f -50.4422 trial_f -50.4422 accepted 1  lowest_f -52.9315\n",
      "warning: basinhopping: local minimization failure\n",
      "basinhopping step 9: f -46.2524 trial_f -46.2524 accepted 1  lowest_f -52.9315\n",
      "warning: basinhopping: local minimization failure\n",
      "basinhopping step 10: f -51.8975 trial_f -51.8975 accepted 1  lowest_f -52.9315\n",
      "warning: basinhopping: local minimization failure\n",
      "basinhopping step 11: f -51.7297 trial_f -51.7297 accepted 1  lowest_f -52.9315\n",
      "warning: basinhopping: local minimization failure\n",
      "basinhopping step 12: f -55.7783 trial_f -55.7783 accepted 1  lowest_f -55.7783\n",
      "found new global minimum on step 12 with function value -55.7783\n",
      "warning: basinhopping: local minimization failure\n",
      "basinhopping step 13: f -51.7877 trial_f -51.7877 accepted 1  lowest_f -55.7783\n",
      "basinhopping step 14: f -53.0921 trial_f -53.0921 accepted 1  lowest_f -55.7783\n",
      "warning: basinhopping: local minimization failure\n",
      "basinhopping step 15: f -46.4854 trial_f -46.4854 accepted 1  lowest_f -55.7783\n"
     ]
    },
    {
     "data": {
      "text/plain": [
       "-55.778262481348165"
      ]
     },
     "execution_count": 15,
     "metadata": {},
     "output_type": "execute_result"
    }
   ],
   "source": [
    "# 16 atoms Large T small step\n",
    "\n",
    "LjN_min(16,15,20,3)\n",
    "#failed at T =  10, failed at T =  20 but closer"
   ]
  },
  {
   "cell_type": "code",
   "execution_count": 16,
   "metadata": {
    "collapsed": false
   },
   "outputs": [
    {
     "name": "stdout",
     "output_type": "stream",
     "text": [
      "basinhopping step 0: f -50.827\n",
      "warning: basinhopping: local minimization failure\n",
      "basinhopping step 1: f -49.6831 trial_f -49.6831 accepted 1  lowest_f -50.827\n",
      "warning: basinhopping: local minimization failure\n",
      "basinhopping step 2: f -54.8121 trial_f -54.8121 accepted 1  lowest_f -54.8121\n",
      "found new global minimum on step 2 with function value -54.8121\n",
      "warning: basinhopping: local minimization failure\n",
      "basinhopping step 3: f -52.9237 trial_f -52.9237 accepted 1  lowest_f -54.8121\n",
      "warning: basinhopping: local minimization failure\n",
      "basinhopping step 4: f -52.9237 trial_f -45.4586 accepted 0  lowest_f -54.8121\n",
      "warning: basinhopping: local minimization failure\n",
      "basinhopping step 5: f -52.833 trial_f -52.833 accepted 1  lowest_f -54.8121\n",
      "warning: basinhopping: local minimization failure\n",
      "basinhopping step 6: f -52.7866 trial_f -52.7866 accepted 1  lowest_f -54.8121\n",
      "warning: basinhopping: local minimization failure\n",
      "basinhopping step 7: f -51.1238 trial_f -51.1238 accepted 1  lowest_f -54.8121\n",
      "warning: basinhopping: local minimization failure\n",
      "basinhopping step 8: f -52.928 trial_f -52.928 accepted 1  lowest_f -54.8121\n",
      "warning: basinhopping: local minimization failure\n",
      "basinhopping step 9: f -53.7545 trial_f -53.7545 accepted 1  lowest_f -54.8121\n",
      "warning: basinhopping: local minimization failure\n",
      "basinhopping step 10: f -53.1268 trial_f -53.1268 accepted 1  lowest_f -54.8121\n",
      "warning: basinhopping: local minimization failure\n",
      "basinhopping step 11: f -56.8157 trial_f -56.8157 accepted 1  lowest_f -56.8157\n",
      "found new global minimum on step 11 with function value -56.8157\n",
      "warning: basinhopping: local minimization failure\n",
      "basinhopping step 12: f -51.373 trial_f -51.373 accepted 1  lowest_f -56.8157\n",
      "warning: basinhopping: local minimization failure\n",
      "basinhopping step 13: f -52.7319 trial_f -52.7319 accepted 1  lowest_f -56.8157\n",
      "warning: basinhopping: local minimization failure\n",
      "basinhopping step 14: f -53.8443 trial_f -53.8443 accepted 1  lowest_f -56.8157\n",
      "warning: basinhopping: local minimization failure\n",
      "basinhopping step 15: f -43.0995 trial_f -43.0995 accepted 1  lowest_f -56.8157\n"
     ]
    },
    {
     "data": {
      "text/plain": [
       "-56.81574178040459"
      ]
     },
     "execution_count": 16,
     "metadata": {},
     "output_type": "execute_result"
    }
   ],
   "source": [
    "# 16 atoms larger T, small step\n",
    "\n",
    "LjN_min(16,15,25,3)\n",
    "\n",
    "#success with larger T will graph"
   ]
  },
  {
   "cell_type": "markdown",
   "metadata": {},
   "source": [
    "    It seems that as the number of atoms increases in the LJ clusters, the T value should increase in order to accept larger jumps in the potential barriers with in the space."
   ]
  },
  {
   "cell_type": "code",
   "execution_count": 44,
   "metadata": {
    "collapsed": false
   },
   "outputs": [],
   "source": [
    "import numpy as np\n",
    "import matplotlib.pyplot as plt\n",
    "x = np.linspace(0,15,16)\n"
   ]
  },
  {
   "cell_type": "code",
   "execution_count": 51,
   "metadata": {
    "collapsed": false
   },
   "outputs": [],
   "source": [
    "import os\n",
    "\n",
    "os.chdir(r'''C:\\Users\\david\\Desktop\\phys-300\\2017-cmp''')"
   ]
  },
  {
   "cell_type": "code",
   "execution_count": 56,
   "metadata": {
    "collapsed": false
   },
   "outputs": [],
   "source": [
    "N = np.genfromtxt('lj_graph_data.csv',delimiter=',',dtype=float)"
   ]
  },
  {
   "cell_type": "code",
   "execution_count": 58,
   "metadata": {
    "collapsed": false
   },
   "outputs": [],
   "source": [
    "N[0,0] = N[1,0] # fixing import error"
   ]
  },
  {
   "cell_type": "code",
   "execution_count": 69,
   "metadata": {
    "collapsed": false
   },
   "outputs": [
    {
     "data": {
      "image/png": "[encoded data removed]",
      "text/plain": [
       "<matplotlib.figure.Figure at 0x2118879a0f0>"
      ]
     },
     "metadata": {},
     "output_type": "display_data"
    }
   ],
   "source": [
    "plt.plot(x,N[:,0])\n",
    "plt.xlabel('step')\n",
    "plt.ylabel('potential')\n",
    "plt.title('11 Atoms small step large T')\n",
    "plt.show()"
   ]
  },
  {
   "cell_type": "code",
   "execution_count": 68,
   "metadata": {
    "collapsed": false
   },
   "outputs": [
    {
     "data": {
      "image/png": "[encoded data removed]",
      "text/plain": [
       "<matplotlib.figure.Figure at 0x2118772d668>"
      ]
     },
     "metadata": {},
     "output_type": "display_data"
    }
   ],
   "source": [
    "plt.plot(x,N[:,1])\n",
    "plt.xlabel('step')\n",
    "plt.ylabel('potential')\n",
    "plt.title('12 Atoms small step large T')\n",
    "plt.show()"
   ]
  },
  {
   "cell_type": "code",
   "execution_count": 67,
   "metadata": {
    "collapsed": false
   },
   "outputs": [
    {
     "data": {
      "image/png": "[encoded data removed]",
      "text/plain": [
       "<matplotlib.figure.Figure at 0x2118756a4e0>"
      ]
     },
     "metadata": {},
     "output_type": "display_data"
    }
   ],
   "source": [
    "plt.plot(x,N[:,2])\n",
    "plt.xlabel('step')\n",
    "plt.ylabel('potential')\n",
    "plt.title('16 Atoms small step larger T')\n",
    "plt.show()"
   ]
  },
  {
   "cell_type": "markdown",
   "metadata": {},
   "source": [
    "Small step values and large T values seem to locate the global minimum of the clusters within 15 attempts most of the time.\n",
    "T should become larger in porportion to the growing number of atoms in a cluster."
   ]
  },
  {
   "cell_type": "markdown",
   "metadata": {},
   "source": [
    "## Speed Test"
   ]
  },
  {
   "cell_type": "code",
   "execution_count": 65,
   "metadata": {
    "collapsed": false
   },
   "outputs": [
    {
     "name": "stdout",
     "output_type": "stream",
     "text": [
      "1 loop, best of 3: 17.3 s per loop\n"
     ]
    }
   ],
   "source": [
    "%timeit LjN_min(11,15,10,3) # 15 iterations 11 atoms"
   ]
  },
  {
   "cell_type": "code",
   "execution_count": 66,
   "metadata": {
    "collapsed": false
   },
   "outputs": [
    {
     "name": "stdout",
     "output_type": "stream",
     "text": [
      "1 loop, best of 3: 56.9 s per loop\n"
     ]
    }
   ],
   "source": [
    "%timeit LjN_min(20,15,10,3) # 15 iterations 20 atoms"
   ]
  },
  {
   "cell_type": "code",
   "execution_count": null,
   "metadata": {
    "collapsed": true
   },
   "outputs": [],
   "source": []
  }
 ],
 "metadata": {
  "kernelspec": {
   "display_name": "Python 3",
   "language": "python",
   "name": "python3"
  },
  "language_info": {
   "codemirror_mode": {
    "name": "ipython",
    "version": 3
   },
   "file_extension": ".py",
   "mimetype": "text/x-python",
   "name": "python",
   "nbconvert_exporter": "python",
   "pygments_lexer": "ipython3",
   "version": "3.5.2"
  }
 },
 "nbformat": 4,
 "nbformat_minor": 2
}
